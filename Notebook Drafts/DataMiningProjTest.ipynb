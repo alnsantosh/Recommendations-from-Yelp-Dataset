{
 "cells": [
  {
   "cell_type": "code",
   "execution_count": 1,
   "metadata": {
    "collapsed": true
   },
   "outputs": [],
   "source": [
    "%matplotlib inline\n",
    "import matplotlib.pyplot as plt\n",
    "import seaborn as sns; sns.set()\n",
    "import numpy as np"
   ]
  },
  {
   "cell_type": "code",
   "execution_count": 2,
   "metadata": {
    "collapsed": true
   },
   "outputs": [],
   "source": [
    "import argparse\n",
    "import pandas as pd\n",
    "from pathlib import Path\n",
    "import pickle\n",
    "import csv"
   ]
  },
  {
   "cell_type": "code",
   "execution_count": 3,
   "metadata": {
    "collapsed": true
   },
   "outputs": [],
   "source": [
    "from sklearn.mixture import GaussianMixture"
   ]
  },
  {
   "cell_type": "code",
   "execution_count": 4,
   "metadata": {},
   "outputs": [
    {
     "name": "stderr",
     "output_type": "stream",
     "text": [
      "C:\\Users\\SANTOSH\\Anaconda3\\lib\\site-packages\\IPython\\core\\interactiveshell.py:2698: DtypeWarning: Columns (2,3) have mixed types. Specify dtype option on import or set low_memory=False.\n",
      "  interactivity=interactivity, compiler=compiler, result=result)\n"
     ]
    }
   ],
   "source": [
    "reader=pd.read_csv('F://output_bucket1.txt',delimiter=\"\\t\",header=None,names=[\"user_id\",\"city\",\"latitude\",\"longitude\"],encoding='latin-1')"
   ]
  },
  {
   "cell_type": "code",
   "execution_count": 75,
   "metadata": {
    "collapsed": true
   },
   "outputs": [],
   "source": [
    "# latitude=reader[\"latitude\"][:2000]\n",
    "# lat=np.array(latitude)\n",
    "# longitude=reader[\"longitude\"][:2000]\n",
    "# lon=np.array(longitude)\n",
    "latitude=[]\n",
    "longitude=[]\n",
    "city=np.array(reader[\"city\"])\n",
    "for i in range(len(city)):\n",
    "    #if(city[i]==\"Las Vegas\" and users[i]==\"AdxhlxXSGjRsCQxG6ZjfTw\"):\n",
    "    if(users[i]==\"vHx9FtdWDTOcSLsj6_6WCw\"):\n",
    "        latitude.append(reader[\"latitude\"][i])\n",
    "        longitude.append(reader[\"longitude\"][i])\n",
    "lat=np.array(latitude)\n",
    "lon=np.array(longitude)"
   ]
  },
  {
   "cell_type": "code",
   "execution_count": 76,
   "metadata": {},
   "outputs": [
    {
     "name": "stdout",
     "output_type": "stream",
     "text": [
      "['43.663712700000005' '43.6497292' '43.646297499999996' '43.649626'\n",
      " '43.669306' '43.6620391' '43.7175256' '43.6565412' '43.656331099999996'\n",
      " '43.649617600000006' '43.667654399999996']\n",
      "['-79.41775909999998' '-79.4293636' '-79.40854200000001'\n",
      " '-79.39303290000001' '-79.4649022' '-79.4248298' '-79.4008303'\n",
      " '-79.4027114' '-79.4353349' '-79.39167040000001' '-79.4420863']\n",
      "['AdxhlxXSGjRsCQxG6ZjfTw' 'SCIkk7Hjez5fqkbF2o-KYw' 'vHx9FtdWDTOcSLsj6_6WCw'\n",
      " ..., 'mrjrt6Smi_IRrOL7F-6hMw' 'pn82hIGWNj9Rr-O3hzKe6Q'\n",
      " 'X-15to8DorGRwdRyxdB8nQ']\n",
      "Toronto\n",
      "Toronto\n",
      "Toronto\n",
      "Toronto\n",
      "Toronto\n",
      "Toronto\n",
      "Toronto\n",
      "Toronto\n",
      "Toronto\n",
      "Toronto\n",
      "Toronto\n",
      "11\n"
     ]
    }
   ],
   "source": [
    "print(lat[:100])\n",
    "print(lon[:100])\n",
    "users=np.array(reader[\"user_id\"])\n",
    "print(users)\n",
    "count=0\n",
    "for i in range(len(users)):\n",
    "    if(users[i]==\"vHx9FtdWDTOcSLsj6_6WCw\"):\n",
    "        count+=1\n",
    "        print(city[i])\n",
    "        \n",
    "        \n",
    "print(count)"
   ]
  },
  {
   "cell_type": "code",
   "execution_count": 77,
   "metadata": {},
   "outputs": [
    {
     "data": {
      "text/plain": [
       "GaussianMixture(covariance_type='full', init_params='kmeans', max_iter=100,\n",
       "        means_init=None, n_components=2, n_init=1, precisions_init=None,\n",
       "        random_state=None, reg_covar=1e-06, tol=0.001, verbose=0,\n",
       "        verbose_interval=10, warm_start=False, weights_init=None)"
      ]
     },
     "execution_count": 77,
     "metadata": {},
     "output_type": "execute_result"
    }
   ],
   "source": [
    "gmm = GaussianMixture(n_components=2)\n",
    "lat=lat.reshape(-1,1)\n",
    "gmm.fit(lat)"
   ]
  },
  {
   "cell_type": "code",
   "execution_count": 78,
   "metadata": {},
   "outputs": [
    {
     "data": {
      "image/png": "[encoded data removed]",
      "text/plain": [
       "<matplotlib.figure.Figure at 0x29e12d864a8>"
      ]
     },
     "metadata": {},
     "output_type": "display_data"
    }
   ],
   "source": [
    "plt.scatter(lat,lon)\n",
    "plt.show()"
   ]
  },
  {
   "cell_type": "code",
   "execution_count": 42,
   "metadata": {},
   "outputs": [],
   "source": [
    "city=np.array(reader[\"city\"])\n"
   ]
  },
  {
   "cell_type": "code",
   "execution_count": 46,
   "metadata": {},
   "outputs": [
    {
     "name": "stdout",
     "output_type": "stream",
     "text": [
      "1825333\n",
      "5996996\n"
     ]
    }
   ],
   "source": [
    "count=0\n",
    "for c in city:\n",
    "    if(c==\"Las Vegas\"):\n",
    "        count+=1\n",
    "print(count)\n",
    "print(len(city))"
   ]
  },
  {
   "cell_type": "code",
   "execution_count": null,
   "metadata": {
    "collapsed": true
   },
   "outputs": [],
   "source": []
  }
 ],
 "metadata": {
  "kernelspec": {
   "display_name": "Python 3",
   "language": "python",
   "name": "python3"
  },
  "language_info": {
   "codemirror_mode": {
    "name": "ipython",
    "version": 3
   },
   "file_extension": ".py",
   "mimetype": "text/x-python",
   "name": "python",
   "nbconvert_exporter": "python",
   "pygments_lexer": "ipython3",
   "version": "3.6.3"
  }
 },
 "nbformat": 4,
 "nbformat_minor": 2
}
