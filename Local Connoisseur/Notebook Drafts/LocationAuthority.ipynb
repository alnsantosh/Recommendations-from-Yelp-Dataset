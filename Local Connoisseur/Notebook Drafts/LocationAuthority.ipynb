{
 "cells": [
  {
   "cell_type": "code",
   "execution_count": 1,
   "metadata": {
    "collapsed": true
   },
   "outputs": [],
   "source": [
    "# Load scikit's random forest classifier library\n",
    "from sklearn.ensemble import RandomForestClassifier\n",
    "\n",
    "# Load pandas\n",
    "import pandas as pd\n",
    "\n",
    "# Load numpy\n",
    "import numpy as np\n",
    "\n",
    "# Set random seed\n",
    "np.random.seed(0)\n",
    "\n",
    "from collections import defaultdict\n",
    "import math\n",
    "import pickle"
   ]
  },
  {
   "cell_type": "code",
   "execution_count": 2,
   "metadata": {
    "collapsed": true
   },
   "outputs": [],
   "source": [
    "reader=pd.read_csv('F://DM_DataFrames/Dump/feature.csv',delimiter=\"\\t\")"
   ]
  },
  {
   "cell_type": "code",
   "execution_count": 3,
   "metadata": {
    "collapsed": true
   },
   "outputs": [],
   "source": [
    "reader=reader.drop(reader.columns[[0]],axis=1)"
   ]
  },
  {
   "cell_type": "code",
   "execution_count": 4,
   "metadata": {},
   "outputs": [
    {
     "data": {
      "text/html": [
       "<div>\n",
       "<style>\n",
       "    .dataframe thead tr:only-child th {\n",
       "        text-align: right;\n",
       "    }\n",
       "\n",
       "    .dataframe thead th {\n",
       "        text-align: left;\n",
       "    }\n",
       "\n",
       "    .dataframe tbody tr th {\n",
       "        vertical-align: top;\n",
       "    }\n",
       "</style>\n",
       "<table border=\"1\" class=\"dataframe\">\n",
       "  <thead>\n",
       "    <tr style=\"text-align: right;\">\n",
       "      <th></th>\n",
       "      <th>user_id</th>\n",
       "      <th>review_count</th>\n",
       "      <th>yelping_age</th>\n",
       "      <th>avg_rating</th>\n",
       "      <th>stdev</th>\n",
       "      <th>unique_business_count</th>\n",
       "      <th>y</th>\n",
       "      <th>is_train</th>\n",
       "    </tr>\n",
       "  </thead>\n",
       "  <tbody>\n",
       "    <tr>\n",
       "      <th>0</th>\n",
       "      <td>-3i9bhfvrM3F1wsC9XIB8g</td>\n",
       "      <td>1</td>\n",
       "      <td>13.0</td>\n",
       "      <td>4.0</td>\n",
       "      <td>0.0</td>\n",
       "      <td>1</td>\n",
       "      <td>1</td>\n",
       "      <td>False</td>\n",
       "    </tr>\n",
       "    <tr>\n",
       "      <th>1</th>\n",
       "      <td>-GKEFg_92pp0q842clS_Jw</td>\n",
       "      <td>1</td>\n",
       "      <td>7.0</td>\n",
       "      <td>4.0</td>\n",
       "      <td>0.0</td>\n",
       "      <td>1</td>\n",
       "      <td>1</td>\n",
       "      <td>True</td>\n",
       "    </tr>\n",
       "    <tr>\n",
       "      <th>2</th>\n",
       "      <td>-3s52C4zL_DHRK0ULG6qtg</td>\n",
       "      <td>1</td>\n",
       "      <td>8.0</td>\n",
       "      <td>4.0</td>\n",
       "      <td>0.0</td>\n",
       "      <td>1</td>\n",
       "      <td>1</td>\n",
       "      <td>True</td>\n",
       "    </tr>\n",
       "    <tr>\n",
       "      <th>3</th>\n",
       "      <td>-dErbI4sHSkRz6oxjy9L3g</td>\n",
       "      <td>4</td>\n",
       "      <td>7.0</td>\n",
       "      <td>3.5</td>\n",
       "      <td>0.5</td>\n",
       "      <td>4</td>\n",
       "      <td>1</td>\n",
       "      <td>True</td>\n",
       "    </tr>\n",
       "    <tr>\n",
       "      <th>4</th>\n",
       "      <td>-NVuMUhYiQ3_VhpwBpYCfA</td>\n",
       "      <td>1</td>\n",
       "      <td>7.0</td>\n",
       "      <td>4.0</td>\n",
       "      <td>0.0</td>\n",
       "      <td>1</td>\n",
       "      <td>1</td>\n",
       "      <td>False</td>\n",
       "    </tr>\n",
       "  </tbody>\n",
       "</table>\n",
       "</div>"
      ],
      "text/plain": [
       "                  user_id  review_count  yelping_age  avg_rating  stdev  \\\n",
       "0  -3i9bhfvrM3F1wsC9XIB8g             1         13.0         4.0    0.0   \n",
       "1  -GKEFg_92pp0q842clS_Jw             1          7.0         4.0    0.0   \n",
       "2  -3s52C4zL_DHRK0ULG6qtg             1          8.0         4.0    0.0   \n",
       "3  -dErbI4sHSkRz6oxjy9L3g             4          7.0         3.5    0.5   \n",
       "4  -NVuMUhYiQ3_VhpwBpYCfA             1          7.0         4.0    0.0   \n",
       "\n",
       "   unique_business_count  y  is_train  \n",
       "0                      1  1     False  \n",
       "1                      1  1      True  \n",
       "2                      1  1      True  \n",
       "3                      4  1      True  \n",
       "4                      1  1     False  "
      ]
     },
     "execution_count": 4,
     "metadata": {},
     "output_type": "execute_result"
    }
   ],
   "source": [
    "reader.head()"
   ]
  },
  {
   "cell_type": "code",
   "execution_count": 76,
   "metadata": {
    "collapsed": true
   },
   "outputs": [],
   "source": [
    "#topical_model=None\n",
    "# with open(\"F://DM_Model_RF/model.pkl\",\"rb\") as f:\n",
    "#     clf=pickle.load(f)"
   ]
  },
  {
   "cell_type": "code",
   "execution_count": 6,
   "metadata": {},
   "outputs": [
    {
     "data": {
      "text/plain": [
       "RandomForestClassifier(bootstrap=True, class_weight=None, criterion='gini',\n",
       "            max_depth=None, max_features='auto', max_leaf_nodes=None,\n",
       "            min_impurity_decrease=0.0, min_impurity_split=None,\n",
       "            min_samples_leaf=1, min_samples_split=2,\n",
       "            min_weight_fraction_leaf=0.0, n_estimators=150, n_jobs=1,\n",
       "            oob_score=False, random_state=0, verbose=0, warm_start=False)"
      ]
     },
     "execution_count": 6,
     "metadata": {},
     "output_type": "execute_result"
    }
   ],
   "source": [
    "train=reader[reader['is_train']==True]\n",
    "test=reader[reader['is_train']==False]\n",
    "clf=RandomForestClassifier(random_state=0,n_estimators=150,max_depth=None)\n",
    "features=train.columns[1:-2]\n",
    "features\n",
    "clf.fit(train[features],train[\"y\"])"
   ]
  },
  {
   "cell_type": "code",
   "execution_count": 7,
   "metadata": {},
   "outputs": [
    {
     "name": "stdout",
     "output_type": "stream",
     "text": [
      "<class 'str'>\n",
      "                      user_id  review_count  yelping_age  avg_rating  stdev  \\\n",
      "72837  qYxn0CS7ZfV-k1fm8e6J9g             1          6.0         2.0    0.0   \n",
      "\n",
      "       unique_business_count  y  is_train  \n",
      "72837                      1  0     False  \n"
     ]
    }
   ],
   "source": [
    "#train.head()\n",
    "test.head()\n",
    "print(type(test[\"user_id\"][0]))\n",
    "print(test[test[\"user_id\"]==\"qYxn0CS7ZfV-k1fm8e6J9g\"])"
   ]
  },
  {
   "cell_type": "code",
   "execution_count": 8,
   "metadata": {
    "collapsed": true
   },
   "outputs": [],
   "source": [
    "test_y=clf.predict(test[features])\n"
   ]
  },
  {
   "cell_type": "code",
   "execution_count": 142,
   "metadata": {},
   "outputs": [
    {
     "name": "stdout",
     "output_type": "stream",
     "text": [
      "3729\n"
     ]
    }
   ],
   "source": [
    "#print(test_y[:10])\n",
    "#print(len(test[test[\"y\"]==1]))\n",
    "#print(len(test[test[\"y\"]==0]))\n",
    "#print(len(test))\n",
    "count=0\n",
    "for i in test_y:\n",
    "    if(i==1):\n",
    "        count+=1\n",
    "#print(count)\n",
    "#print(len(test_y))\n",
    "test.head()\n",
    "#print(type(test))\n",
    "#print(test[\"user_id\"])\n",
    "elite_predicted=[]\n",
    "i=0\n",
    "for index,row in test.iterrows():\n",
    "    if(test_y[i]==1):\n",
    "        elite_predicted.append(row[0])#elite_predicted.append(test[\"user_id\"][index])\n",
    "    i+=1\n",
    "print(len(elite_predicted))\n",
    "#print(i)"
   ]
  },
  {
   "cell_type": "code",
   "execution_count": 9,
   "metadata": {},
   "outputs": [
    {
     "name": "stdout",
     "output_type": "stream",
     "text": [
      "<class 'list'>\n",
      "0.7569033530571992\n",
      "0.43852031955540116\n",
      "2525\n",
      "5758\n"
     ]
    }
   ],
   "source": [
    "count=0\n",
    "count_1=0\n",
    "count_actual_1=0\n",
    "y_given=list(test[\"y\"])\n",
    "print(type(y_given))\n",
    "for i in range(len(test)):\n",
    "    if(y_given[i]==test_y[i]):\n",
    "        count+=1\n",
    "    if(y_given[i]==test_y[i] and test_y[i]==1):\n",
    "        count_1+=1\n",
    "    if(y_given[i]==1):\n",
    "        count_actual_1+=1\n",
    "print(count/len(test))\n",
    "print(count_1/(count_actual_1))\n",
    "print(count_1)\n",
    "print(count_actual_1)\n",
    "    "
   ]
  },
  {
   "cell_type": "code",
   "execution_count": 10,
   "metadata": {},
   "outputs": [
    {
     "name": "stdout",
     "output_type": "stream",
     "text": [
      "2525\n",
      "1204\n",
      "0.6771252346473585\n",
      "0.43852031955540116\n",
      "0.532307367977232\n"
     ]
    }
   ],
   "source": [
    "print(count_1)\n",
    "fp=0\n",
    "fn=0\n",
    "for i in range(len(y_given)):\n",
    "    if(y_given[i]==0 and test_y[i]==1):\n",
    "        fp+=1\n",
    "    if(y_given[i]==1 and test_y[i]==0):\n",
    "        fn+=1\n",
    "print(fp)\n",
    "tp=count_1\n",
    "precision=tp/(tp+fp)\n",
    "recall=tp/(tp+fn)\n",
    "f_measure=2*(precision*recall)/(precision+recall)\n",
    "print(precision)\n",
    "print(recall)\n",
    "print(f_measure)"
   ]
  },
  {
   "cell_type": "code",
   "execution_count": 11,
   "metadata": {
    "collapsed": true
   },
   "outputs": [],
   "source": [
    "#Topical Authority"
   ]
  },
  {
   "cell_type": "code",
   "execution_count": 94,
   "metadata": {
    "collapsed": true
   },
   "outputs": [],
   "source": [
    "from sklearn.mixture import GMM\n",
    "from sklearn.mixture import GaussianMixture\n",
    "import scipy\n",
    "import matplotlib.pyplot as plt\n",
    "import csv"
   ]
  },
  {
   "cell_type": "code",
   "execution_count": 13,
   "metadata": {
    "collapsed": true
   },
   "outputs": [],
   "source": [
    "business=pd.read_json(\"F://Data mining project/YelpDataset/yelp_academic_dataset_business.json\",lines=True)"
   ]
  },
  {
   "cell_type": "code",
   "execution_count": 14,
   "metadata": {},
   "outputs": [
    {
     "name": "stderr",
     "output_type": "stream",
     "text": [
      "C:\\Users\\SANTOSH\\Anaconda3\\lib\\site-packages\\IPython\\core\\interactiveshell.py:2698: DtypeWarning: Columns (2,3) have mixed types. Specify dtype option on import or set low_memory=False.\n",
      "  interactivity=interactivity, compiler=compiler, result=result)\n"
     ]
    }
   ],
   "source": [
    "bucket=pd.read_csv('F://output_bucket1.txt',delimiter=\"\\t\",header=None,names=[\"user_id\",\"city\",\"latitude\",\"longitude\",],encoding='latin-1')"
   ]
  },
  {
   "cell_type": "code",
   "execution_count": 16,
   "metadata": {},
   "outputs": [
    {
     "name": "stdout",
     "output_type": "stream",
     "text": [
      "51.0918130155   -114.031674872\n",
      "5996996\n"
     ]
    },
    {
     "data": {
      "text/html": [
       "<div>\n",
       "<style>\n",
       "    .dataframe thead tr:only-child th {\n",
       "        text-align: right;\n",
       "    }\n",
       "\n",
       "    .dataframe thead th {\n",
       "        text-align: left;\n",
       "    }\n",
       "\n",
       "    .dataframe tbody tr th {\n",
       "        vertical-align: top;\n",
       "    }\n",
       "</style>\n",
       "<table border=\"1\" class=\"dataframe\">\n",
       "  <thead>\n",
       "    <tr style=\"text-align: right;\">\n",
       "      <th></th>\n",
       "      <th>user_id</th>\n",
       "      <th>city</th>\n",
       "      <th>latitude</th>\n",
       "      <th>longitude</th>\n",
       "    </tr>\n",
       "  </thead>\n",
       "  <tbody>\n",
       "    <tr>\n",
       "      <th>0</th>\n",
       "      <td>AdxhlxXSGjRsCQxG6ZjfTw</td>\n",
       "      <td>Las Vegas</td>\n",
       "      <td>36.1232</td>\n",
       "      <td>-115.169</td>\n",
       "    </tr>\n",
       "    <tr>\n",
       "      <th>1</th>\n",
       "      <td>SCIkk7Hjez5fqkbF2o-KYw</td>\n",
       "      <td>Montréal</td>\n",
       "      <td>45.4866</td>\n",
       "      <td>-73.5695</td>\n",
       "    </tr>\n",
       "    <tr>\n",
       "      <th>2</th>\n",
       "      <td>vHx9FtdWDTOcSLsj6_6WCw</td>\n",
       "      <td>Toronto</td>\n",
       "      <td>43.6637</td>\n",
       "      <td>-79.4178</td>\n",
       "    </tr>\n",
       "    <tr>\n",
       "      <th>3</th>\n",
       "      <td>LVZgk4gt_kT2E6UI7EHybw</td>\n",
       "      <td>Pickering</td>\n",
       "      <td>43.8356</td>\n",
       "      <td>-79.086</td>\n",
       "    </tr>\n",
       "    <tr>\n",
       "      <th>4</th>\n",
       "      <td>fajYvBnXcfk3RFQcOafA1Q</td>\n",
       "      <td>Wexford</td>\n",
       "      <td>40.6278</td>\n",
       "      <td>-80.0561</td>\n",
       "    </tr>\n",
       "  </tbody>\n",
       "</table>\n",
       "</div>"
      ],
      "text/plain": [
       "                  user_id       city latitude longitude\n",
       "0  AdxhlxXSGjRsCQxG6ZjfTw  Las Vegas  36.1232  -115.169\n",
       "1  SCIkk7Hjez5fqkbF2o-KYw   Montréal  45.4866  -73.5695\n",
       "2  vHx9FtdWDTOcSLsj6_6WCw    Toronto  43.6637  -79.4178\n",
       "3  LVZgk4gt_kT2E6UI7EHybw  Pickering  43.8356   -79.086\n",
       "4  fajYvBnXcfk3RFQcOafA1Q    Wexford  40.6278  -80.0561"
      ]
     },
     "execution_count": 16,
     "metadata": {},
     "output_type": "execute_result"
    }
   ],
   "source": [
    "print(business[\"latitude\"][0],\" \",business[\"longitude\"][0])\n",
    "print(len(bucket))\n",
    "bucket.head()"
   ]
  },
  {
   "cell_type": "code",
   "execution_count": null,
   "metadata": {},
   "outputs": [],
   "source": [
    "#print(len(bucket[\"user_id\"]))\n",
    "#print(len(bucket[\"user_id\"].unique()))\n",
    "print(bucket[bucket[\"user_id\"]==\"N0durDai4PQJSkVEvO9QvQ\"])\n",
    "users=bucket[\"user_id\"].unique()\n",
    "print(users[0])\n",
    "print(len(bucket[\"city\"].unique()))"
   ]
  },
  {
   "cell_type": "code",
   "execution_count": 24,
   "metadata": {},
   "outputs": [],
   "source": [
    "#business.head()"
   ]
  },
  {
   "cell_type": "code",
   "execution_count": 17,
   "metadata": {},
   "outputs": [
    {
     "name": "stdout",
     "output_type": "stream",
     "text": [
      "Index(['latitude', 'longitude'], dtype='object')\n"
     ]
    }
   ],
   "source": [
    "# features=business.columns[7:9]\n",
    "# print(features)\n",
    "#print(business[features])"
   ]
  },
  {
   "cell_type": "code",
   "execution_count": null,
   "metadata": {},
   "outputs": [
    {
     "name": "stdout",
     "output_type": "stream",
     "text": [
      "N0durDai4PQJSkVEvO9QvQ\n",
      "OPYJBgEcl5mD5abVkYsHMQ\n",
      "YF8-x1bazy6yBplgCSST_w\n",
      "hqPqyDqXwbC9Ybh60pZhtg\n",
      "jrvTYh6NKG-Hd0t-N2Kt8g\n",
      "1Y4EpgIHy6RNo0iEY7yyxA\n",
      "eT56zER_mmUCY55hOt1-Aw\n",
      "kVLCNx_nsCQrrPt-H9xn1A\n",
      "HvZ76OHGhBi1ES8jZIvEtQ\n",
      "OcyEZo8wlmnS7-KflP8eUQ\n",
      "gVmUR8rqUFdbSeZbsg6z_w\n",
      "r7HZ3mkEpK0gDkHv9wj9qg\n",
      "LVucBO-gKkxYVj6uaWN5fg\n",
      "kEdYVivta6SG6jDe5tlfXw\n",
      "Gfvb-M5IQzOJ3AZebuXeCw\n",
      "uQvG5e0DG9jAAzevogOVKA\n",
      "DXBth8XpjOnVd4vEXiHamg\n",
      "P6bXFw793Yz2jY3ILF0cDw\n",
      "G4OMwC_TseVUsUDD0oRzmQ\n",
      "8-Jg_vtYGxGCM0XCH56bzg\n",
      "hVHYycPzGMg_Gmb5QMjB9g\n",
      "mWW2mBsqWA7u1u4dseaPQA\n",
      "FWs_GQ0rvjzXgJvQVbUqGA\n",
      "_7Xr_D_JP-hvIo4g8A6J5Q\n",
      "8vOiK1JhSj7AcE7fZcOsGw\n",
      "Z95FWe3KNicCF0QWSVUfrA\n",
      "kKPbWlBjpSL3Qzvtn_AaPw\n",
      "k7vY4cteg3nq1O-Ff4f8GA\n",
      "tUKpixy4c24_2W0PngxooA\n",
      "CThkrFIoGIXqhZ0nRw5e-g\n",
      "hl0HdvFfndVGKVxmP1d5PQ\n",
      "Sx6koXMij1leBFMXMsetDA\n",
      "_HePgYz6a3jZI-TFV1eEtA\n",
      "ZY_LdeLdStxzR6pE354eww\n",
      "bFHyZF8LryVblI4eQOBRdg\n",
      "JivWK3Ud3m9AjU2y2MWJcA\n",
      "pg4NXBVD3X2AlqighrtPWg\n",
      "gPK2AKr-UA_7hZus80SSng\n"
     ]
    }
   ],
   "source": [
    "#Logic for iterating over all the users and finding the businesses associated with that user\n",
    "user_location=[]\n",
    "file=open(\"F://user_location.csv\",\"w\")\n",
    "with file:\n",
    "    for user in elite_predicted:\n",
    "        try:\n",
    "            temp=bucket[bucket[\"user_id\"]==user]\n",
    "            features=temp.columns[2:]\n",
    "            gmm=GaussianMixture(n_components=2,covariance_type=\"full\").fit(temp[features])\n",
    "            #print(gmm)\n",
    "            X=temp[features]\n",
    "            #print(type(X))\n",
    "            #print(X.shape)\n",
    "            #print(X[\"latitude\"][0])\n",
    "            #plt.scatter(X[\"latitude\"], X[\"longitude\"],s=10)\n",
    "            #centers = np.empty(shape=(gmm.n_components, X.shape[1]))\n",
    "            location=[]\n",
    "            max=0;\n",
    "            for i in range(gmm.n_components):\n",
    "                density = scipy.stats.multivariate_normal(cov=gmm.covariances_[i], mean=gmm.means_[i]).logpdf(X)\n",
    "                #print(density)\n",
    "                #print(\"Density:\",np.argmax(density))\n",
    "                mean=gmm.means_[i]\n",
    "                #print(\"Mean: \",mean)\n",
    "                if(np.argmax(density)>max):\n",
    "                    max=np.argmax(density)\n",
    "                    location=mean\n",
    "                #print(X[np.argmax(density)])\n",
    "        #       centers[i, :] = X[np.argmax(density)]\n",
    "                #plt.scatter(gmm.means_[i][0], gmm.means_[i][1],s=50)\n",
    "            #plt.show()\n",
    "            #print(\"Location\",location[0],\" \",location[1])\n",
    "            #print(\"User:\",user)\n",
    "            user_location.append([user,location[0],location[1]])\n",
    "            writer=csv.writer(file)\n",
    "            writer.writerow([user,location[0],location[1]])\n",
    "        except:\n",
    "            print(user)\n"
   ]
  },
  {
   "cell_type": "code",
   "execution_count": 76,
   "metadata": {},
   "outputs": [],
   "source": [
    "#gmm=GMM(n_components=2).fit(business[features][1:][0])"
   ]
  },
  {
   "cell_type": "code",
   "execution_count": 80,
   "metadata": {
    "collapsed": true
   },
   "outputs": [],
   "source": []
  },
  {
   "cell_type": "code",
   "execution_count": null,
   "metadata": {
    "collapsed": true
   },
   "outputs": [],
   "source": []
  }
 ],
 "metadata": {
  "kernelspec": {
   "display_name": "Python 3",
   "language": "python",
   "name": "python3"
  },
  "language_info": {
   "codemirror_mode": {
    "name": "ipython",
    "version": 3
   },
   "file_extension": ".py",
   "mimetype": "text/x-python",
   "name": "python",
   "nbconvert_exporter": "python",
   "pygments_lexer": "ipython3",
   "version": "3.6.3"
  }
 },
 "nbformat": 4,
 "nbformat_minor": 2
}
