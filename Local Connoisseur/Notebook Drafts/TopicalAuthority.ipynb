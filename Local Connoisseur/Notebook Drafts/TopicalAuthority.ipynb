{
 "cells": [
  {
   "cell_type": "code",
   "execution_count": 1,
   "metadata": {
    "collapsed": true
   },
   "outputs": [],
   "source": [
    "# Load scikit's random forest classifier library\n",
    "from sklearn.ensemble import RandomForestClassifier\n",
    "\n",
    "# Load pandas\n",
    "import pandas as pd\n",
    "\n",
    "# Load numpy\n",
    "import numpy as np\n",
    "\n",
    "# Set random seed\n",
    "np.random.seed(0)"
   ]
  },
  {
   "cell_type": "code",
   "execution_count": 107,
   "metadata": {},
   "outputs": [],
   "source": [
    "from collections import defaultdict\n",
    "import math\n",
    "import pickle"
   ]
  },
  {
   "cell_type": "code",
   "execution_count": 3,
   "metadata": {
    "collapsed": true
   },
   "outputs": [],
   "source": [
    "reader=pd.read_csv('F://topical.txt',delimiter=\"\\t\",header=None,names=[\"business_id\",\"business_stars\",\"business_review_count\",\"review_id\",\"review_stars\",\"text\",\"user_id\",\"name\",\"user_review_count\",\"yelping_since\",\"friends\",\"useful\",\"funny\",\"cool\",\"fans\",\"elite\"],encoding='latin-1')"
   ]
  },
  {
   "cell_type": "code",
   "execution_count": 105,
   "metadata": {},
   "outputs": [
    {
     "data": {
      "text/html": [
       "<div>\n",
       "<style>\n",
       "    .dataframe thead tr:only-child th {\n",
       "        text-align: right;\n",
       "    }\n",
       "\n",
       "    .dataframe thead th {\n",
       "        text-align: left;\n",
       "    }\n",
       "\n",
       "    .dataframe tbody tr th {\n",
       "        vertical-align: top;\n",
       "    }\n",
       "</style>\n",
       "<table border=\"1\" class=\"dataframe\">\n",
       "  <thead>\n",
       "    <tr style=\"text-align: right;\">\n",
       "      <th></th>\n",
       "      <th>business_id</th>\n",
       "      <th>business_stars</th>\n",
       "      <th>business_review_count</th>\n",
       "      <th>review_id</th>\n",
       "      <th>review_stars</th>\n",
       "      <th>text</th>\n",
       "      <th>user_id</th>\n",
       "      <th>name</th>\n",
       "      <th>user_review_count</th>\n",
       "      <th>yelping_since</th>\n",
       "      <th>friends</th>\n",
       "      <th>useful</th>\n",
       "      <th>funny</th>\n",
       "      <th>cool</th>\n",
       "      <th>fans</th>\n",
       "      <th>elite</th>\n",
       "    </tr>\n",
       "  </thead>\n",
       "  <tbody>\n",
       "    <tr>\n",
       "      <th>0</th>\n",
       "      <td>q3dJQtwZQrrurNT-1bNKgQ</td>\n",
       "      <td>4.0</td>\n",
       "      <td>1247</td>\n",
       "      <td>gRPKQOXBLMomasde6TM3NQ</td>\n",
       "      <td>1</td>\n",
       "      <td>This place was okay I had the chicken anastasi...</td>\n",
       "      <td>-3bsS2i9xqjNnIA1fRnzIQ</td>\n",
       "      <td>Kim</td>\n",
       "      <td>15</td>\n",
       "      <td>2012-04-10</td>\n",
       "      <td>OYe02aZcjVDtziyMj1-0AA, nUZRKGwNxDrmQ_2vlVeVow...</td>\n",
       "      <td>61</td>\n",
       "      <td>1</td>\n",
       "      <td>1</td>\n",
       "      <td>0</td>\n",
       "      <td>None</td>\n",
       "    </tr>\n",
       "    <tr>\n",
       "      <th>1</th>\n",
       "      <td>ss978X4omzcJjIeq6K-kag</td>\n",
       "      <td>4.0</td>\n",
       "      <td>155</td>\n",
       "      <td>vDuHDY5AqNu-RH9khf1Msw</td>\n",
       "      <td>4</td>\n",
       "      <td>This is not your average pizza place... It is ...</td>\n",
       "      <td>-3aeOKu1ph9ZQ7dhCD802A</td>\n",
       "      <td>Debbie</td>\n",
       "      <td>20</td>\n",
       "      <td>2011-11-27</td>\n",
       "      <td>ivm6bLIy2kGx-tujiP-EeQ, L6wUxmUErIR7FJijgr6nUQ...</td>\n",
       "      <td>40</td>\n",
       "      <td>5</td>\n",
       "      <td>7</td>\n",
       "      <td>1</td>\n",
       "      <td>None</td>\n",
       "    </tr>\n",
       "    <tr>\n",
       "      <th>2</th>\n",
       "      <td>zzSYBWuv_fXGtSgsO-6_1g</td>\n",
       "      <td>4.0</td>\n",
       "      <td>179</td>\n",
       "      <td>KobYxh8NdDCBThfER2dJhA</td>\n",
       "      <td>2</td>\n",
       "      <td>This place has beautiful, peaceful ambiance an...</td>\n",
       "      <td>-3aeOKu1ph9ZQ7dhCD802A</td>\n",
       "      <td>Debbie</td>\n",
       "      <td>20</td>\n",
       "      <td>2011-11-27</td>\n",
       "      <td>ivm6bLIy2kGx-tujiP-EeQ, L6wUxmUErIR7FJijgr6nUQ...</td>\n",
       "      <td>40</td>\n",
       "      <td>5</td>\n",
       "      <td>7</td>\n",
       "      <td>1</td>\n",
       "      <td>None</td>\n",
       "    </tr>\n",
       "    <tr>\n",
       "      <th>3</th>\n",
       "      <td>GtHu9uGXpn7Jg_Z7vFKZKw</td>\n",
       "      <td>3.5</td>\n",
       "      <td>40</td>\n",
       "      <td>P1K77IxkrLC--nFkDVC4cg</td>\n",
       "      <td>4</td>\n",
       "      <td>Loved their meatball sliders!  So cute.  We go...</td>\n",
       "      <td>-3i9bhfvrM3F1wsC9XIB8g</td>\n",
       "      <td>Linda</td>\n",
       "      <td>635</td>\n",
       "      <td>2005-08-07</td>\n",
       "      <td>CLKGEdkqwQT6oVJG_deC7g, sfow6eRRLPTQa4MEHmKbaQ...</td>\n",
       "      <td>3215</td>\n",
       "      <td>2762</td>\n",
       "      <td>3052</td>\n",
       "      <td>94</td>\n",
       "      <td>2010, 2016, 2008, 2015, 2007, 2011, 2014, 2013...</td>\n",
       "    </tr>\n",
       "    <tr>\n",
       "      <th>4</th>\n",
       "      <td>GtSNTE2qMOZBlj0noCgCGw</td>\n",
       "      <td>3.5</td>\n",
       "      <td>111</td>\n",
       "      <td>59KDf3shd_cdZ0BmxmB37w</td>\n",
       "      <td>2</td>\n",
       "      <td>I was hoping this place would be delish since ...</td>\n",
       "      <td>-3aeOKu1ph9ZQ7dhCD802A</td>\n",
       "      <td>Debbie</td>\n",
       "      <td>20</td>\n",
       "      <td>2011-11-27</td>\n",
       "      <td>ivm6bLIy2kGx-tujiP-EeQ, L6wUxmUErIR7FJijgr6nUQ...</td>\n",
       "      <td>40</td>\n",
       "      <td>5</td>\n",
       "      <td>7</td>\n",
       "      <td>1</td>\n",
       "      <td>None</td>\n",
       "    </tr>\n",
       "  </tbody>\n",
       "</table>\n",
       "</div>"
      ],
      "text/plain": [
       "              business_id business_stars business_review_count  \\\n",
       "0  q3dJQtwZQrrurNT-1bNKgQ            4.0                  1247   \n",
       "1  ss978X4omzcJjIeq6K-kag            4.0                   155   \n",
       "2  zzSYBWuv_fXGtSgsO-6_1g            4.0                   179   \n",
       "3  GtHu9uGXpn7Jg_Z7vFKZKw            3.5                    40   \n",
       "4  GtSNTE2qMOZBlj0noCgCGw            3.5                   111   \n",
       "\n",
       "                review_id review_stars  \\\n",
       "0  gRPKQOXBLMomasde6TM3NQ            1   \n",
       "1  vDuHDY5AqNu-RH9khf1Msw            4   \n",
       "2  KobYxh8NdDCBThfER2dJhA            2   \n",
       "3  P1K77IxkrLC--nFkDVC4cg            4   \n",
       "4  59KDf3shd_cdZ0BmxmB37w            2   \n",
       "\n",
       "                                                text                 user_id  \\\n",
       "0  This place was okay I had the chicken anastasi...  -3bsS2i9xqjNnIA1fRnzIQ   \n",
       "1  This is not your average pizza place... It is ...  -3aeOKu1ph9ZQ7dhCD802A   \n",
       "2  This place has beautiful, peaceful ambiance an...  -3aeOKu1ph9ZQ7dhCD802A   \n",
       "3  Loved their meatball sliders!  So cute.  We go...  -3i9bhfvrM3F1wsC9XIB8g   \n",
       "4  I was hoping this place would be delish since ...  -3aeOKu1ph9ZQ7dhCD802A   \n",
       "\n",
       "     name user_review_count yelping_since  \\\n",
       "0     Kim                15    2012-04-10   \n",
       "1  Debbie                20    2011-11-27   \n",
       "2  Debbie                20    2011-11-27   \n",
       "3   Linda               635    2005-08-07   \n",
       "4  Debbie                20    2011-11-27   \n",
       "\n",
       "                                             friends useful funny  cool fans  \\\n",
       "0  OYe02aZcjVDtziyMj1-0AA, nUZRKGwNxDrmQ_2vlVeVow...     61     1     1    0   \n",
       "1  ivm6bLIy2kGx-tujiP-EeQ, L6wUxmUErIR7FJijgr6nUQ...     40     5     7    1   \n",
       "2  ivm6bLIy2kGx-tujiP-EeQ, L6wUxmUErIR7FJijgr6nUQ...     40     5     7    1   \n",
       "3  CLKGEdkqwQT6oVJG_deC7g, sfow6eRRLPTQa4MEHmKbaQ...   3215  2762  3052   94   \n",
       "4  ivm6bLIy2kGx-tujiP-EeQ, L6wUxmUErIR7FJijgr6nUQ...     40     5     7    1   \n",
       "\n",
       "                                               elite  \n",
       "0                                               None  \n",
       "1                                               None  \n",
       "2                                               None  \n",
       "3  2010, 2016, 2008, 2015, 2007, 2011, 2014, 2013...  \n",
       "4                                               None  "
      ]
     },
     "execution_count": 105,
     "metadata": {},
     "output_type": "execute_result"
    }
   ],
   "source": [
    "reader.head()"
   ]
  },
  {
   "cell_type": "code",
   "execution_count": 4,
   "metadata": {
    "collapsed": true
   },
   "outputs": [],
   "source": [
    "f=defaultdict(dict)\n",
    "for i in range(len(reader)):\n",
    "    f[reader[\"user_id\"][i]]={};\n",
    "    "
   ]
  },
  {
   "cell_type": "code",
   "execution_count": 5,
   "metadata": {},
   "outputs": [
    {
     "name": "stdout",
     "output_type": "stream",
     "text": [
      "{}\n",
      "332716\n",
      "2347774\n"
     ]
    }
   ],
   "source": [
    "print(f[reader[\"user_id\"][2]])\n",
    "print(len(f))\n",
    "print(len(reader))\n",
    "#reader=reader[:5]"
   ]
  },
  {
   "cell_type": "code",
   "execution_count": 6,
   "metadata": {},
   "outputs": [
    {
     "name": "stdout",
     "output_type": "stream",
     "text": [
      "0\n",
      "100000\n",
      "200000\n",
      "300000\n",
      "400000\n",
      "500000\n",
      "600000\n",
      "700000\n",
      "800000\n",
      "900000\n",
      "1000000\n",
      "1100000\n",
      "1200000\n",
      "1300000\n",
      "1400000\n",
      "1500000\n",
      "1600000\n",
      "1700000\n",
      "1800000\n",
      "1900000\n",
      "2000000\n",
      "2100000\n",
      "2200000\n",
      "2300000\n"
     ]
    }
   ],
   "source": [
    "#creating features\n",
    "for i in range(len(reader)):\n",
    "    if(i%100000==0):\n",
    "        print(i)\n",
    "    if \"review_count\" in f[reader[\"user_id\"][i]]:\n",
    "        f[reader[\"user_id\"][i]][\"review_count\"]+=1\n",
    "    else:\n",
    "        f[reader[\"user_id\"][i]][\"review_count\"]=1\n",
    "        \n",
    "    if \"ratings\" in f[reader[\"user_id\"][i]]:\n",
    "        f[reader[\"user_id\"][i]][\"ratings\"].append(reader[\"review_stars\"][i])\n",
    "    else:\n",
    "        f[reader[\"user_id\"][i]][\"ratings\"]=[]\n",
    "        f[reader[\"user_id\"][i]][\"ratings\"].append(reader[\"review_stars\"][i])\n",
    "        \n",
    "    if \"business_reviewed\" in f[reader[\"user_id\"][i]]:\n",
    "        f[reader[\"user_id\"][i]][\"business_reviewed\"][reader[\"business_id\"][i]]=1\n",
    "    else:\n",
    "        #print(\"business_reviewed\")\n",
    "        f[reader[\"user_id\"][i]][\"business_reviewed\"]={}\n",
    "        f[reader[\"user_id\"][i]][\"business_reviewed\"][reader[\"business_id\"][i]]=1\n",
    "        \n",
    "    if \"yelping_age\" not in f[reader[\"user_id\"][i]]:\n",
    "#         if(type(reader[\"yelping_since\"][i])==float and math.isnan(reader[\"yelping_since\"][i])):\n",
    "#             f[reader[\"user_id\"][i]][\"yelping_age\"]=0\n",
    "#         else:\n",
    "#             print(\"Failed: \",i)\n",
    "#             f[reader[\"user_id\"][i]][\"yelping_age\"]= 2018-int(reader[\"yelping_since\"][i][0:4])\n",
    "        try:\n",
    "            f[reader[\"user_id\"][i]][\"yelping_age\"]= 2018-int(reader[\"yelping_since\"][i][0:4])\n",
    "        except:\n",
    "            f[reader[\"user_id\"][i]][\"yelping_age\"]=0\n",
    "    #print(reader[\"user_id\"][i],\": \",f[reader[\"user_id\"][i]])\n",
    "    \n",
    "        "
   ]
  },
  {
   "cell_type": "code",
   "execution_count": 7,
   "metadata": {},
   "outputs": [
    {
     "name": "stdout",
     "output_type": "stream",
     "text": [
      "1.5   0.5   2\n",
      "4.0   0.0   1\n",
      "5.0   0.0   1\n",
      "5.0   0.0   1\n",
      "3.0   0.0   1\n",
      "3.0   0.0   1\n"
     ]
    }
   ],
   "source": [
    "avg_yelp_age=0;\n",
    "count=0\n",
    "for key in f:\n",
    "    if(\"yelping_age\" in f[key] and f[key][\"yelping_age\"] !=0):\n",
    "        avg_yelp_age+=f[key][\"yelping_age\"]\n",
    "        count+=1\n",
    "avg_yelp_age=avg_yelp_age/count;\n",
    "\n",
    "count=0\n",
    "remove_keys=[]\n",
    "for key in f:\n",
    "    try:\n",
    "        if(type(key)==float and math.isnan(key)):\n",
    "            continue\n",
    "#         print(f[key][\"ratings\"])\n",
    "#         print(key)\n",
    "        rate=np.array(list(map(int,f[key][\"ratings\"])))\n",
    "    #     print(f[key][\"ratings\"])\n",
    "    #     print(key)\n",
    "        avg=np.mean(rate)\n",
    "        std=np.std(rate)\n",
    "        f[key][\"avg_rating\"]=avg\n",
    "        f[key][\"stdev\"]=std\n",
    "        f[key][\"unique_business_count\"]=len(f[key][\"business_reviewed\"])\n",
    "        if(f[key][\"yelping_age\"] ==0):\n",
    "            f[key][\"yelping_age\"] =avg_yelp_age\n",
    "        count+=1\n",
    "        if(count%50000==0):\n",
    "            print(f[key][\"avg_rating\"],\" \",f[key][\"stdev\"],\" \",f[key][\"unique_business_count\"])\n",
    "    except:\n",
    "        remove_keys.append(key)\n",
    "    "
   ]
  },
  {
   "cell_type": "code",
   "execution_count": 8,
   "metadata": {},
   "outputs": [],
   "source": [
    "# print(f[\"-3i9bhfvrM3F1wsC9XIB8g\"])\n",
    "# print(f[\"-3i9bhfvrM3F1wsC9XIB8g\"][\"ratings\"])\n",
    "# print(len(remove_keys))\n",
    "\n",
    "for key in remove_keys:\n",
    "    f.pop(key,None)"
   ]
  },
  {
   "cell_type": "code",
   "execution_count": 9,
   "metadata": {},
   "outputs": [
    {
     "name": "stdout",
     "output_type": "stream",
     "text": [
      "{'review_count': 1, 'ratings': ['4'], 'business_reviewed': {'GtHu9uGXpn7Jg_Z7vFKZKw': 1}, 'yelping_age': 13, 'avg_rating': 4.0, 'stdev': 0.0, 'unique_business_count': 1}\n"
     ]
    }
   ],
   "source": [
    "# print(type(reader[\"yelping_since\"][39721]))\n",
    "print(f[\"-3i9bhfvrM3F1wsC9XIB8g\"])"
   ]
  },
  {
   "cell_type": "code",
   "execution_count": 10,
   "metadata": {
    "collapsed": true
   },
   "outputs": [],
   "source": [
    "#Creating Y values\n",
    "y_map={}\n",
    "for i in range(len(reader)):\n",
    "    if(reader[\"elite\"][i]==\"None\"):\n",
    "        y_map[reader[\"user_id\"][i]]=0\n",
    "    else:\n",
    "        y_map[reader[\"user_id\"][i]]=1"
   ]
  },
  {
   "cell_type": "code",
   "execution_count": 11,
   "metadata": {},
   "outputs": [
    {
     "name": "stdout",
     "output_type": "stream",
     "text": [
      "nan\n",
      "307059\n"
     ]
    }
   ],
   "source": [
    "#creating feature vector\n",
    "feature=[]\n",
    "count=0\n",
    "for key in f:\n",
    "    try:\n",
    "        temp=[]\n",
    "        temp.append(key)\n",
    "        temp.append(f[key][\"review_count\"])\n",
    "        temp.append(f[key][\"yelping_age\"])\n",
    "        temp.append(f[key][\"avg_rating\"])\n",
    "        temp.append(f[key][\"stdev\"])\n",
    "        temp.append(f[key][\"unique_business_count\"])\n",
    "        temp.append(y_map[key])\n",
    "        feature.append(temp)\n",
    "        if(y_map[key]==0):\n",
    "            count+=1\n",
    "    except:\n",
    "        print(key)\n",
    "print(count)"
   ]
  },
  {
   "cell_type": "code",
   "execution_count": 54,
   "metadata": {
    "collapsed": true
   },
   "outputs": [],
   "source": [
    "#print(len(feature))\n",
    "feature_df=pd.DataFrame(feature,columns=[\"user_id\",\"review_count\",\"yelping_age\",\"avg_rating\",\"stdev\",\"unique_business_count\",\"y\"])"
   ]
  },
  {
   "cell_type": "code",
   "execution_count": 55,
   "metadata": {},
   "outputs": [
    {
     "name": "stdout",
     "output_type": "stream",
     "text": [
      "True\n",
      "329897\n"
     ]
    }
   ],
   "source": [
    "print(reader['elite'][0]==\"None\")\n",
    "print(len(feature))"
   ]
  },
  {
   "cell_type": "code",
   "execution_count": 56,
   "metadata": {
    "collapsed": true
   },
   "outputs": [],
   "source": [
    "feature_df['is_train']=np.random.uniform(0,1,len(feature_df)) <=0.75\n",
    "#reader.head()"
   ]
  },
  {
   "cell_type": "code",
   "execution_count": 57,
   "metadata": {},
   "outputs": [
    {
     "name": "stdout",
     "output_type": "stream",
     "text": [
      "246836\n",
      "83061\n",
      "0.7482214145627272\n"
     ]
    }
   ],
   "source": [
    "train=feature_df[feature_df['is_train']==True]\n",
    "test=feature_df[feature_df['is_train']==False]\n",
    "print(len(train))\n",
    "print(len(test))\n",
    "print(len(train)/(len(train)+len(test)))"
   ]
  },
  {
   "cell_type": "code",
   "execution_count": 58,
   "metadata": {},
   "outputs": [],
   "source": [
    "features=feature_df.columns[1:-2]\n",
    "features\n",
    "#print(train[features])\n",
    "y=train[\"y\"]\n",
    "#print(y)"
   ]
  },
  {
   "cell_type": "code",
   "execution_count": 59,
   "metadata": {},
   "outputs": [
    {
     "data": {
      "text/plain": [
       "RandomForestClassifier(bootstrap=True, class_weight=None, criterion='gini',\n",
       "            max_depth=None, max_features='auto', max_leaf_nodes=None,\n",
       "            min_impurity_decrease=0.0, min_impurity_split=None,\n",
       "            min_samples_leaf=1, min_samples_split=2,\n",
       "            min_weight_fraction_leaf=0.0, n_estimators=150, n_jobs=1,\n",
       "            oob_score=False, random_state=0, verbose=0, warm_start=False)"
      ]
     },
     "execution_count": 59,
     "metadata": {},
     "output_type": "execute_result"
    }
   ],
   "source": [
    "clf=RandomForestClassifier(random_state=0,n_estimators=150,max_depth=None)\n",
    "clf.fit(train[features],y)"
   ]
  },
  {
   "cell_type": "code",
   "execution_count": 60,
   "metadata": {},
   "outputs": [],
   "source": [
    "test_y=clf.predict(test[features])"
   ]
  },
  {
   "cell_type": "code",
   "execution_count": 61,
   "metadata": {},
   "outputs": [
    {
     "name": "stdout",
     "output_type": "stream",
     "text": [
      "<class 'list'>\n",
      "0.9309663981892826\n",
      "0.09782226905514577\n",
      "557\n",
      "5694\n"
     ]
    }
   ],
   "source": [
    "count=0\n",
    "count_1=0\n",
    "count_actual_1=0\n",
    "y_given=list(test[\"y\"])\n",
    "print(type(y_given))\n",
    "for i in range(len(test)):\n",
    "    if(y_given[i]==test_y[i]):\n",
    "        count+=1\n",
    "    if(y_given[i]==test_y[i] and test_y[i]==1):\n",
    "        count_1+=1\n",
    "    if(y_given[i]==1):\n",
    "        count_actual_1+=1\n",
    "print(count/len(test))\n",
    "print(count_1/(count_actual_1))\n",
    "print(count_1)\n",
    "print(count_actual_1)\n",
    "    "
   ]
  },
  {
   "cell_type": "code",
   "execution_count": 62,
   "metadata": {},
   "outputs": [
    {
     "name": "stdout",
     "output_type": "stream",
     "text": [
      "557\n",
      "597\n"
     ]
    }
   ],
   "source": [
    "print(count_1)\n",
    "fp=0\n",
    "fn=0\n",
    "for i in range(len(y_given)):\n",
    "    if(y_given[i]==0 and test_y[i]==1):\n",
    "        fp+=1\n",
    "    if(y_given[i]==1 and test_y[i]==0):\n",
    "        fn+=1\n",
    "print(fp)\n",
    "tp=count_1"
   ]
  },
  {
   "cell_type": "code",
   "execution_count": 63,
   "metadata": {},
   "outputs": [
    {
     "name": "stdout",
     "output_type": "stream",
     "text": [
      "0.4826689774696707\n",
      "0.09782226905514577\n",
      "0.16267523364485983\n"
     ]
    }
   ],
   "source": [
    "precision=tp/(tp+fp)\n",
    "recall=tp/(tp+fn)\n",
    "f_measure=2*(precision*recall)/(precision+recall)\n",
    "print(precision)\n",
    "print(recall)\n",
    "print(f_measure)"
   ]
  },
  {
   "cell_type": "code",
   "execution_count": 47,
   "metadata": {
    "collapsed": true
   },
   "outputs": [],
   "source": [
    "#To remove the skewness, making the number of positive and negative examples as same"
   ]
  },
  {
   "cell_type": "code",
   "execution_count": 64,
   "metadata": {},
   "outputs": [
    {
     "data": {
      "text/html": [
       "<div>\n",
       "<style>\n",
       "    .dataframe thead tr:only-child th {\n",
       "        text-align: right;\n",
       "    }\n",
       "\n",
       "    .dataframe thead th {\n",
       "        text-align: left;\n",
       "    }\n",
       "\n",
       "    .dataframe tbody tr th {\n",
       "        vertical-align: top;\n",
       "    }\n",
       "</style>\n",
       "<table border=\"1\" class=\"dataframe\">\n",
       "  <thead>\n",
       "    <tr style=\"text-align: right;\">\n",
       "      <th></th>\n",
       "      <th>user_id</th>\n",
       "      <th>review_count</th>\n",
       "      <th>yelping_age</th>\n",
       "      <th>avg_rating</th>\n",
       "      <th>stdev</th>\n",
       "      <th>unique_business_count</th>\n",
       "      <th>y</th>\n",
       "      <th>is_train</th>\n",
       "    </tr>\n",
       "  </thead>\n",
       "  <tbody>\n",
       "    <tr>\n",
       "      <th>0</th>\n",
       "      <td>-3bsS2i9xqjNnIA1fRnzIQ</td>\n",
       "      <td>1</td>\n",
       "      <td>6.0</td>\n",
       "      <td>1.000000</td>\n",
       "      <td>0.000000</td>\n",
       "      <td>1</td>\n",
       "      <td>0</td>\n",
       "      <td>True</td>\n",
       "    </tr>\n",
       "    <tr>\n",
       "      <th>1</th>\n",
       "      <td>-3aeOKu1ph9ZQ7dhCD802A</td>\n",
       "      <td>3</td>\n",
       "      <td>7.0</td>\n",
       "      <td>2.666667</td>\n",
       "      <td>0.942809</td>\n",
       "      <td>3</td>\n",
       "      <td>0</td>\n",
       "      <td>False</td>\n",
       "    </tr>\n",
       "    <tr>\n",
       "      <th>2</th>\n",
       "      <td>-3i9bhfvrM3F1wsC9XIB8g</td>\n",
       "      <td>1</td>\n",
       "      <td>13.0</td>\n",
       "      <td>4.000000</td>\n",
       "      <td>0.000000</td>\n",
       "      <td>1</td>\n",
       "      <td>1</td>\n",
       "      <td>False</td>\n",
       "    </tr>\n",
       "    <tr>\n",
       "      <th>3</th>\n",
       "      <td>-55DgUo52I3zW9RxkZ-EAQ</td>\n",
       "      <td>3</td>\n",
       "      <td>5.0</td>\n",
       "      <td>4.333333</td>\n",
       "      <td>0.471405</td>\n",
       "      <td>3</td>\n",
       "      <td>0</td>\n",
       "      <td>True</td>\n",
       "    </tr>\n",
       "    <tr>\n",
       "      <th>4</th>\n",
       "      <td>-897i_JdWyDsXGUa81XlNg</td>\n",
       "      <td>1</td>\n",
       "      <td>8.0</td>\n",
       "      <td>1.000000</td>\n",
       "      <td>0.000000</td>\n",
       "      <td>1</td>\n",
       "      <td>0</td>\n",
       "      <td>True</td>\n",
       "    </tr>\n",
       "  </tbody>\n",
       "</table>\n",
       "</div>"
      ],
      "text/plain": [
       "                  user_id  review_count  yelping_age  avg_rating     stdev  \\\n",
       "0  -3bsS2i9xqjNnIA1fRnzIQ             1          6.0    1.000000  0.000000   \n",
       "1  -3aeOKu1ph9ZQ7dhCD802A             3          7.0    2.666667  0.942809   \n",
       "2  -3i9bhfvrM3F1wsC9XIB8g             1         13.0    4.000000  0.000000   \n",
       "3  -55DgUo52I3zW9RxkZ-EAQ             3          5.0    4.333333  0.471405   \n",
       "4  -897i_JdWyDsXGUa81XlNg             1          8.0    1.000000  0.000000   \n",
       "\n",
       "   unique_business_count  y  is_train  \n",
       "0                      1  0      True  \n",
       "1                      3  0     False  \n",
       "2                      1  1     False  \n",
       "3                      3  0      True  \n",
       "4                      1  0      True  "
      ]
     },
     "execution_count": 64,
     "metadata": {},
     "output_type": "execute_result"
    }
   ],
   "source": [
    "feature_df.head()"
   ]
  },
  {
   "cell_type": "code",
   "execution_count": 65,
   "metadata": {
    "collapsed": true
   },
   "outputs": [],
   "source": [
    "feature_df_new=feature_df[:]"
   ]
  },
  {
   "cell_type": "code",
   "execution_count": 88,
   "metadata": {},
   "outputs": [],
   "source": [
    "feature_df_new=feature_df_new.drop(labels=\"is_train\",axis=1)"
   ]
  },
  {
   "cell_type": "code",
   "execution_count": 96,
   "metadata": {},
   "outputs": [
    {
     "name": "stdout",
     "output_type": "stream",
     "text": [
      "22838\n",
      "307059\n",
      "22838\n",
      "50000\n"
     ]
    }
   ],
   "source": [
    "print(len(feature_df_new[feature_df_new['y']==1]))\n",
    "print(len(feature_df_new[feature_df_new['y']==0]))\n",
    "feature_1=feature_df_new[feature_df_new['y']==1]\n",
    "feature_0=feature_df_new[feature_df_new['y']==0][:50000]\n",
    "print(len(feature_1))\n",
    "print(len(feature_0))"
   ]
  },
  {
   "cell_type": "code",
   "execution_count": 97,
   "metadata": {},
   "outputs": [],
   "source": [
    "feature_nonskew=feature_1.append(feature_0)"
   ]
  },
  {
   "cell_type": "code",
   "execution_count": 98,
   "metadata": {},
   "outputs": [
    {
     "name": "stdout",
     "output_type": "stream",
     "text": [
      "50000\n",
      "22838\n",
      "72838\n"
     ]
    },
    {
     "data": {
      "text/html": [
       "<div>\n",
       "<style>\n",
       "    .dataframe thead tr:only-child th {\n",
       "        text-align: right;\n",
       "    }\n",
       "\n",
       "    .dataframe thead th {\n",
       "        text-align: left;\n",
       "    }\n",
       "\n",
       "    .dataframe tbody tr th {\n",
       "        vertical-align: top;\n",
       "    }\n",
       "</style>\n",
       "<table border=\"1\" class=\"dataframe\">\n",
       "  <thead>\n",
       "    <tr style=\"text-align: right;\">\n",
       "      <th></th>\n",
       "      <th>user_id</th>\n",
       "      <th>review_count</th>\n",
       "      <th>yelping_age</th>\n",
       "      <th>avg_rating</th>\n",
       "      <th>stdev</th>\n",
       "      <th>unique_business_count</th>\n",
       "      <th>y</th>\n",
       "    </tr>\n",
       "  </thead>\n",
       "  <tbody>\n",
       "    <tr>\n",
       "      <th>2</th>\n",
       "      <td>-3i9bhfvrM3F1wsC9XIB8g</td>\n",
       "      <td>1</td>\n",
       "      <td>13.0</td>\n",
       "      <td>4.0</td>\n",
       "      <td>0.0</td>\n",
       "      <td>1</td>\n",
       "      <td>1</td>\n",
       "    </tr>\n",
       "    <tr>\n",
       "      <th>7</th>\n",
       "      <td>-GKEFg_92pp0q842clS_Jw</td>\n",
       "      <td>1</td>\n",
       "      <td>7.0</td>\n",
       "      <td>4.0</td>\n",
       "      <td>0.0</td>\n",
       "      <td>1</td>\n",
       "      <td>1</td>\n",
       "    </tr>\n",
       "    <tr>\n",
       "      <th>19</th>\n",
       "      <td>-3s52C4zL_DHRK0ULG6qtg</td>\n",
       "      <td>1</td>\n",
       "      <td>8.0</td>\n",
       "      <td>4.0</td>\n",
       "      <td>0.0</td>\n",
       "      <td>1</td>\n",
       "      <td>1</td>\n",
       "    </tr>\n",
       "    <tr>\n",
       "      <th>29</th>\n",
       "      <td>-dErbI4sHSkRz6oxjy9L3g</td>\n",
       "      <td>4</td>\n",
       "      <td>7.0</td>\n",
       "      <td>3.5</td>\n",
       "      <td>0.5</td>\n",
       "      <td>4</td>\n",
       "      <td>1</td>\n",
       "    </tr>\n",
       "    <tr>\n",
       "      <th>31</th>\n",
       "      <td>-NVuMUhYiQ3_VhpwBpYCfA</td>\n",
       "      <td>1</td>\n",
       "      <td>7.0</td>\n",
       "      <td>4.0</td>\n",
       "      <td>0.0</td>\n",
       "      <td>1</td>\n",
       "      <td>1</td>\n",
       "    </tr>\n",
       "  </tbody>\n",
       "</table>\n",
       "</div>"
      ],
      "text/plain": [
       "                   user_id  review_count  yelping_age  avg_rating  stdev  \\\n",
       "2   -3i9bhfvrM3F1wsC9XIB8g             1         13.0         4.0    0.0   \n",
       "7   -GKEFg_92pp0q842clS_Jw             1          7.0         4.0    0.0   \n",
       "19  -3s52C4zL_DHRK0ULG6qtg             1          8.0         4.0    0.0   \n",
       "29  -dErbI4sHSkRz6oxjy9L3g             4          7.0         3.5    0.5   \n",
       "31  -NVuMUhYiQ3_VhpwBpYCfA             1          7.0         4.0    0.0   \n",
       "\n",
       "    unique_business_count  y  \n",
       "2                       1  1  \n",
       "7                       1  1  \n",
       "19                      1  1  \n",
       "29                      4  1  \n",
       "31                      1  1  "
      ]
     },
     "execution_count": 98,
     "metadata": {},
     "output_type": "execute_result"
    }
   ],
   "source": [
    "print(len(feature_0))\n",
    "print(len(feature_1))\n",
    "print(len(feature_nonskew))\n",
    "feature_nonskew.head()"
   ]
  },
  {
   "cell_type": "code",
   "execution_count": 99,
   "metadata": {},
   "outputs": [
    {
     "name": "stdout",
     "output_type": "stream",
     "text": [
      "54586\n",
      "18252\n",
      "0.7494165133584119\n"
     ]
    }
   ],
   "source": [
    "#RandomForest on Non-Skewed data\n",
    "feature_nonskew['is_train']=np.random.uniform(0,1,len(feature_nonskew)) <=0.75\n",
    "train=feature_nonskew[feature_nonskew['is_train']==True]\n",
    "test=feature_nonskew[feature_nonskew['is_train']==False]\n",
    "print(len(train))\n",
    "print(len(test))\n",
    "print(len(train)/(len(train)+len(test)))\n",
    "\n",
    "features=feature_nonskew.columns[1:-2]\n",
    "features\n",
    "#print(train[features])\n",
    "y=train[\"y\"]\n",
    "#print(y)\n"
   ]
  },
  {
   "cell_type": "code",
   "execution_count": 100,
   "metadata": {},
   "outputs": [
    {
     "data": {
      "text/plain": [
       "RandomForestClassifier(bootstrap=True, class_weight=None, criterion='gini',\n",
       "            max_depth=None, max_features='auto', max_leaf_nodes=None,\n",
       "            min_impurity_decrease=0.0, min_impurity_split=None,\n",
       "            min_samples_leaf=1, min_samples_split=2,\n",
       "            min_weight_fraction_leaf=0.0, n_estimators=150, n_jobs=1,\n",
       "            oob_score=False, random_state=0, verbose=0, warm_start=False)"
      ]
     },
     "execution_count": 100,
     "metadata": {},
     "output_type": "execute_result"
    }
   ],
   "source": [
    "clf=RandomForestClassifier(random_state=0,n_estimators=150,max_depth=None)\n",
    "clf.fit(train[features],y)"
   ]
  },
  {
   "cell_type": "code",
   "execution_count": 101,
   "metadata": {
    "collapsed": true
   },
   "outputs": [],
   "source": [
    "test_y=clf.predict(test[features])"
   ]
  },
  {
   "cell_type": "code",
   "execution_count": 102,
   "metadata": {},
   "outputs": [
    {
     "name": "stdout",
     "output_type": "stream",
     "text": [
      "<class 'list'>\n",
      "0.7569033530571992\n",
      "0.43852031955540116\n",
      "2525\n",
      "5758\n",
      "2525\n",
      "1204\n",
      "Precision:  0.6771252346473585\n",
      "Recall:  0.43852031955540116\n",
      "F-Measure:  0.532307367977232\n"
     ]
    }
   ],
   "source": [
    "count=0\n",
    "count_1=0\n",
    "count_actual_1=0\n",
    "y_given=list(test[\"y\"])\n",
    "print(type(y_given))\n",
    "for i in range(len(test)):\n",
    "    if(y_given[i]==test_y[i]):\n",
    "        count+=1\n",
    "    if(y_given[i]==test_y[i] and test_y[i]==1):\n",
    "        count_1+=1\n",
    "    if(y_given[i]==1):\n",
    "        count_actual_1+=1\n",
    "print(count/len(test))\n",
    "print(count_1/(count_actual_1))\n",
    "print(count_1)\n",
    "print(count_actual_1)\n",
    "print(count_1)\n",
    "fp=0\n",
    "fn=0\n",
    "for i in range(len(y_given)):\n",
    "    if(y_given[i]==0 and test_y[i]==1):\n",
    "        fp+=1\n",
    "    if(y_given[i]==1 and test_y[i]==0):\n",
    "        fn+=1\n",
    "print(fp)\n",
    "tp=count_1\n",
    "precision=tp/(tp+fp)\n",
    "recall=tp/(tp+fn)\n",
    "f_measure=2*(precision*recall)/(precision+recall)\n",
    "print(\"Precision: \",precision)\n",
    "print(\"Recall: \",recall)\n",
    "print(\"F-Measure: \",f_measure)"
   ]
  },
  {
   "cell_type": "code",
   "execution_count": 109,
   "metadata": {},
   "outputs": [],
   "source": [
    "with open(\"F://DM_Model_RF/model.pkl\",\"wb\") as f:\n",
    "    pickle.dump(clf,f)"
   ]
  },
  {
   "cell_type": "code",
   "execution_count": 114,
   "metadata": {
    "collapsed": true
   },
   "outputs": [],
   "source": [
    "feature_nonskew.to_csv(\"F://DM_DataFrames/feature.csv\",index=False)"
   ]
  },
  {
   "cell_type": "code",
   "execution_count": 115,
   "metadata": {
    "collapsed": true
   },
   "outputs": [],
   "source": [
    "feature_df.to_csv(\"F://DM_DataFrames/feature_big.csv\",index=False)"
   ]
  },
  {
   "cell_type": "code",
   "execution_count": 112,
   "metadata": {},
   "outputs": [
    {
     "data": {
      "text/plain": [
       "329897"
      ]
     },
     "execution_count": 112,
     "metadata": {},
     "output_type": "execute_result"
    }
   ],
   "source": [
    "len(feature_df)"
   ]
  },
  {
   "cell_type": "code",
   "execution_count": 104,
   "metadata": {
    "collapsed": true
   },
   "outputs": [],
   "source": [
    "#from sklearn.mixture import GMM"
   ]
  },
  {
   "cell_type": "code",
   "execution_count": null,
   "metadata": {
    "collapsed": true
   },
   "outputs": [],
   "source": [
    "# X=\n",
    "# gmm=GMM(n_components=4).fit(X)"
   ]
  }
 ],
 "metadata": {
  "kernelspec": {
   "display_name": "Python 3",
   "language": "python",
   "name": "python3"
  },
  "language_info": {
   "codemirror_mode": {
    "name": "ipython",
    "version": 3
   },
   "file_extension": ".py",
   "mimetype": "text/x-python",
   "name": "python",
   "nbconvert_exporter": "python",
   "pygments_lexer": "ipython3",
   "version": "3.6.3"
  }
 },
 "nbformat": 4,
 "nbformat_minor": 2
}
