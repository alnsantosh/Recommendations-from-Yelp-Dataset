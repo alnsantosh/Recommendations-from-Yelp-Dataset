{
 "cells": [
  {
   "cell_type": "code",
   "execution_count": 3,
   "metadata": {
    "collapsed": true
   },
   "outputs": [],
   "source": [
    "# Load scikit's random forest classifier library\n",
    "from sklearn.ensemble import RandomForestClassifier\n",
    "\n",
    "# Load pandas\n",
    "import pandas as pd\n",
    "\n",
    "# Load numpy\n",
    "import numpy as np\n",
    "\n",
    "# Set random seed\n",
    "np.random.seed(0)"
   ]
  },
  {
   "cell_type": "code",
   "execution_count": 4,
   "metadata": {
    "collapsed": true
   },
   "outputs": [],
   "source": [
    "from collections import defaultdict\n",
    "import math"
   ]
  },
  {
   "cell_type": "code",
   "execution_count": 5,
   "metadata": {
    "collapsed": true
   },
   "outputs": [],
   "source": [
    "reader=pd.read_csv('F://topical.txt',delimiter=\"\\t\",header=None,names=[\"business_id\",\"business_stars\",\"business_review_count\",\"review_id\",\"review_stars\",\"text\",\"user_id\",\"name\",\"user_review_count\",\"yelping_since\",\"friends\",\"useful\",\"funny\",\"cool\",\"fans\",\"elite\"],encoding='latin-1')"
   ]
  },
  {
   "cell_type": "code",
   "execution_count": 51,
   "metadata": {},
   "outputs": [],
   "source": [
    "#reader.head()"
   ]
  },
  {
   "cell_type": "code",
   "execution_count": 6,
   "metadata": {
    "collapsed": true
   },
   "outputs": [],
   "source": [
    "f=defaultdict(dict)\n",
    "for i in range(len(reader)):\n",
    "    f[reader[\"user_id\"][i]]={};\n",
    "    "
   ]
  },
  {
   "cell_type": "code",
   "execution_count": 7,
   "metadata": {},
   "outputs": [
    {
     "name": "stdout",
     "output_type": "stream",
     "text": [
      "{}\n",
      "332716\n",
      "2347774\n"
     ]
    }
   ],
   "source": [
    "print(f[reader[\"user_id\"][2]])\n",
    "print(len(f))\n",
    "print(len(reader))\n",
    "#reader=reader[:5]"
   ]
  },
  {
   "cell_type": "code",
   "execution_count": 8,
   "metadata": {},
   "outputs": [
    {
     "name": "stdout",
     "output_type": "stream",
     "text": [
      "0\n",
      "50000\n",
      "100000\n",
      "150000\n",
      "200000\n",
      "250000\n",
      "300000\n",
      "350000\n",
      "400000\n",
      "450000\n",
      "500000\n",
      "550000\n",
      "600000\n",
      "650000\n",
      "700000\n",
      "750000\n",
      "800000\n",
      "850000\n",
      "900000\n",
      "950000\n",
      "1000000\n",
      "1050000\n",
      "1100000\n",
      "1150000\n",
      "1200000\n",
      "1250000\n",
      "1300000\n",
      "1350000\n",
      "1400000\n",
      "1450000\n",
      "1500000\n",
      "1550000\n",
      "1600000\n",
      "1650000\n",
      "1700000\n",
      "1750000\n",
      "1800000\n",
      "1850000\n",
      "1900000\n",
      "1950000\n",
      "2000000\n",
      "2050000\n",
      "2100000\n",
      "2150000\n",
      "2200000\n",
      "2250000\n",
      "2300000\n"
     ]
    }
   ],
   "source": [
    "for i in range(len(reader)):\n",
    "    if(i%50000==0):\n",
    "        print(i)\n",
    "    if \"review_count\" in f[reader[\"user_id\"][i]]:\n",
    "        f[reader[\"user_id\"][i]][\"review_count\"]+=1\n",
    "    else:\n",
    "        f[reader[\"user_id\"][i]][\"review_count\"]=1\n",
    "        \n",
    "    if \"ratings\" in f[reader[\"user_id\"][i]]:\n",
    "        f[reader[\"user_id\"][i]][\"ratings\"].append(reader[\"review_stars\"][i])\n",
    "    else:\n",
    "        f[reader[\"user_id\"][i]][\"ratings\"]=[]\n",
    "        f[reader[\"user_id\"][i]][\"ratings\"].append(reader[\"review_stars\"][i])\n",
    "        \n",
    "    if \"business_reviewed\" in f[reader[\"user_id\"][i]]:\n",
    "        f[reader[\"user_id\"][i]][\"business_reviewed\"][reader[\"business_id\"][i]]=1\n",
    "    else:\n",
    "        #print(\"business_reviewed\")\n",
    "        f[reader[\"user_id\"][i]][\"business_reviewed\"]={}\n",
    "        f[reader[\"user_id\"][i]][\"business_reviewed\"][reader[\"business_id\"][i]]=1\n",
    "        \n",
    "    if \"yelping_age\" not in f[reader[\"user_id\"][i]]:\n",
    "#         if(type(reader[\"yelping_since\"][i])==float and math.isnan(reader[\"yelping_since\"][i])):\n",
    "#             f[reader[\"user_id\"][i]][\"yelping_age\"]=0\n",
    "#         else:\n",
    "#             print(\"Failed: \",i)\n",
    "#             f[reader[\"user_id\"][i]][\"yelping_age\"]= 2018-int(reader[\"yelping_since\"][i][0:4])\n",
    "        try:\n",
    "            f[reader[\"user_id\"][i]][\"yelping_age\"]= 2018-int(reader[\"yelping_since\"][i][0:4])\n",
    "        except:\n",
    "            f[reader[\"user_id\"][i]][\"yelping_age\"]=0\n",
    "    #print(reader[\"user_id\"][i],\": \",f[reader[\"user_id\"][i]])\n",
    "    \n",
    "        "
   ]
  },
  {
   "cell_type": "code",
   "execution_count": 29,
   "metadata": {},
   "outputs": [
    {
     "name": "stdout",
     "output_type": "stream",
     "text": [
      "1.5   0.5   2\n",
      "4.0   0.0   1\n",
      "5.0   0.0   1\n",
      "5.0   0.0   1\n",
      "3.0   0.0   1\n",
      "3.0   0.0   1\n"
     ]
    }
   ],
   "source": [
    "avg_yelp_age=0;\n",
    "count=0\n",
    "for key in f:\n",
    "    if(\"yelping_age\" in f[key] and f[key][\"yelping_age\"] !=0):\n",
    "        avg_yelp_age+=f[key][\"yelping_age\"]\n",
    "        count+=1\n",
    "avg_yelp_age=avg_yelp_age/count;\n",
    "\n",
    "count=0\n",
    "remove_keys=[]\n",
    "for key in f:\n",
    "    try:\n",
    "        if(type(key)==float and math.isnan(key)):\n",
    "            continue\n",
    "#         print(f[key][\"ratings\"])\n",
    "#         print(key)\n",
    "        rate=np.array(list(map(int,f[key][\"ratings\"])))\n",
    "    #     print(f[key][\"ratings\"])\n",
    "    #     print(key)\n",
    "        avg=np.mean(rate)\n",
    "        std=np.std(rate)\n",
    "        f[key][\"avg_rating\"]=avg\n",
    "        f[key][\"stdev\"]=std\n",
    "        f[key][\"unique_business_count\"]=len(f[key][\"business_reviewed\"])\n",
    "        if(f[key][\"yelping_age\"] ==0):\n",
    "            f[key][\"yelping_age\"] =avg_yelp_age\n",
    "        count+=1\n",
    "        if(count%50000==0):\n",
    "            print(f[key][\"avg_rating\"],\" \",f[key][\"stdev\"],\" \",f[key][\"unique_business_count\"])\n",
    "    except:\n",
    "        remove_keys.append(key)\n",
    "    "
   ]
  },
  {
   "cell_type": "code",
   "execution_count": 31,
   "metadata": {},
   "outputs": [
    {
     "name": "stdout",
     "output_type": "stream",
     "text": [
      "{'review_count': 1, 'ratings': ['4'], 'business_reviewed': {'GtHu9uGXpn7Jg_Z7vFKZKw': 1}, 'yelping_age': 13, 'avg_rating': 4.0, 'stdev': 0.0, 'unique_business_count': 1}\n",
      "['4']\n",
      "2818\n"
     ]
    }
   ],
   "source": [
    "# print(f[\"-3i9bhfvrM3F1wsC9XIB8g\"])\n",
    "# print(f[\"-3i9bhfvrM3F1wsC9XIB8g\"][\"ratings\"])\n",
    "# print(len(remove_keys))\n",
    "\n",
    "for key in remove_keys:\n",
    "    f.pop(key,None)"
   ]
  },
  {
   "cell_type": "code",
   "execution_count": 32,
   "metadata": {},
   "outputs": [
    {
     "name": "stdout",
     "output_type": "stream",
     "text": [
      "{'review_count': 1, 'ratings': ['4'], 'business_reviewed': {'GtHu9uGXpn7Jg_Z7vFKZKw': 1}, 'yelping_age': 13, 'avg_rating': 4.0, 'stdev': 0.0, 'unique_business_count': 1}\n"
     ]
    }
   ],
   "source": [
    "# print(type(reader[\"yelping_since\"][39721]))\n",
    "print(f[\"-3i9bhfvrM3F1wsC9XIB8g\"])"
   ]
  },
  {
   "cell_type": "code",
   "execution_count": 57,
   "metadata": {},
   "outputs": [],
   "source": [
    "#Creating Y values\n",
    "y_map={}\n",
    "for i in range(len(reader)):\n",
    "    if(reader[\"elite\"][i]==\"None\"):\n",
    "        y_map[reader[\"user_id\"][i]]=0\n",
    "    else:\n",
    "        y_map[reader[\"user_id\"][i]]=1"
   ]
  },
  {
   "cell_type": "code",
   "execution_count": 58,
   "metadata": {},
   "outputs": [
    {
     "name": "stdout",
     "output_type": "stream",
     "text": [
      "nan\n",
      "307059\n"
     ]
    }
   ],
   "source": [
    "#creating feature vector\n",
    "feature=[]\n",
    "count=0\n",
    "for key in f:\n",
    "    try:\n",
    "        temp=[]\n",
    "        temp.append(key)\n",
    "        temp.append(f[key][\"review_count\"])\n",
    "        temp.append(f[key][\"yelping_age\"])\n",
    "        temp.append(f[key][\"avg_rating\"])\n",
    "        temp.append(f[key][\"stdev\"])\n",
    "        temp.append(f[key][\"unique_business_count\"])\n",
    "        temp.append(y_map[key])\n",
    "        feature.append(temp)\n",
    "        if(y_map[key]==0):\n",
    "            count+=1\n",
    "    except:\n",
    "        print(key)\n",
    "print(count)"
   ]
  },
  {
   "cell_type": "code",
   "execution_count": 60,
   "metadata": {},
   "outputs": [],
   "source": [
    "#print(len(feature))\n",
    "feature_df=pd.DataFrame(feature,columns=[\"user_id\",\"review_count\",\"yelping_age\",\"avg_rating\",\"stdev\",\"unique_business_count\",\"y\"])"
   ]
  },
  {
   "cell_type": "code",
   "execution_count": 59,
   "metadata": {},
   "outputs": [
    {
     "name": "stdout",
     "output_type": "stream",
     "text": [
      "True\n",
      "329897\n"
     ]
    }
   ],
   "source": [
    "print(reader['elite'][0]==\"None\")\n",
    "print(len(feature))"
   ]
  },
  {
   "cell_type": "code",
   "execution_count": 62,
   "metadata": {},
   "outputs": [],
   "source": [
    "feature_df['is_train']=np.random.uniform(0,1,len(feature_df)) <=0.75\n",
    "#reader.head()"
   ]
  },
  {
   "cell_type": "code",
   "execution_count": 63,
   "metadata": {},
   "outputs": [
    {
     "name": "stdout",
     "output_type": "stream",
     "text": [
      "247195\n",
      "82702\n",
      "0.7493096330066658\n"
     ]
    }
   ],
   "source": [
    "train=feature_df[feature_df['is_train']==True]\n",
    "test=feature_df[feature_df['is_train']==False]\n",
    "print(len(train))\n",
    "print(len(test))\n",
    "print(len(train)/(len(train)+len(test)))"
   ]
  },
  {
   "cell_type": "code",
   "execution_count": 71,
   "metadata": {},
   "outputs": [
    {
     "name": "stdout",
     "output_type": "stream",
     "text": [
      "1         0\n",
      "2         1\n",
      "3         0\n",
      "4         0\n",
      "5         0\n",
      "6         0\n",
      "7         1\n",
      "9         0\n",
      "10        0\n",
      "12        0\n",
      "13        0\n",
      "15        0\n",
      "16        0\n",
      "17        0\n",
      "20        0\n",
      "22        0\n",
      "23        0\n",
      "25        0\n",
      "26        0\n",
      "27        0\n",
      "28        0\n",
      "29        1\n",
      "31        1\n",
      "32        0\n",
      "33        0\n",
      "34        0\n",
      "35        0\n",
      "36        0\n",
      "37        1\n",
      "38        0\n",
      "         ..\n",
      "329862    0\n",
      "329863    0\n",
      "329866    0\n",
      "329867    0\n",
      "329868    1\n",
      "329869    0\n",
      "329870    0\n",
      "329871    0\n",
      "329872    0\n",
      "329873    0\n",
      "329874    0\n",
      "329875    0\n",
      "329876    0\n",
      "329877    0\n",
      "329878    1\n",
      "329880    0\n",
      "329881    0\n",
      "329883    0\n",
      "329884    0\n",
      "329885    0\n",
      "329886    0\n",
      "329887    0\n",
      "329888    0\n",
      "329889    0\n",
      "329890    0\n",
      "329891    0\n",
      "329893    0\n",
      "329894    0\n",
      "329895    0\n",
      "329896    0\n",
      "Name: y, Length: 247195, dtype: int64\n"
     ]
    }
   ],
   "source": [
    "features=feature_df.columns[1:-2]\n",
    "features\n",
    "#print(train[features])\n",
    "y=train[\"y\"]\n",
    "#print(y)"
   ]
  },
  {
   "cell_type": "code",
   "execution_count": 72,
   "metadata": {},
   "outputs": [
    {
     "data": {
      "text/plain": [
       "RandomForestClassifier(bootstrap=True, class_weight=None, criterion='gini',\n",
       "            max_depth=None, max_features='auto', max_leaf_nodes=None,\n",
       "            min_impurity_decrease=0.0, min_impurity_split=None,\n",
       "            min_samples_leaf=1, min_samples_split=2,\n",
       "            min_weight_fraction_leaf=0.0, n_estimators=10, n_jobs=2,\n",
       "            oob_score=False, random_state=0, verbose=0, warm_start=False)"
      ]
     },
     "execution_count": 72,
     "metadata": {},
     "output_type": "execute_result"
    }
   ],
   "source": [
    "clf=RandomForestClassifier(n_jobs=2,random_state=0)\n",
    "clf.fit(train[features],y)"
   ]
  },
  {
   "cell_type": "code",
   "execution_count": 74,
   "metadata": {},
   "outputs": [],
   "source": [
    "test_y=clf.predict(test[features])"
   ]
  },
  {
   "cell_type": "code",
   "execution_count": 84,
   "metadata": {},
   "outputs": [
    {
     "name": "stdout",
     "output_type": "stream",
     "text": [
      "<class 'list'>\n",
      "0.9291552804043433\n",
      "0.08908145580589255\n",
      "514\n",
      "5770\n"
     ]
    }
   ],
   "source": [
    "count=0\n",
    "count_1=0\n",
    "count_actual_1=0\n",
    "y_given=list(test[\"y\"])\n",
    "print(type(y_given))\n",
    "for i in range(len(test)):\n",
    "    if(y_given[i]==test_y[i]):\n",
    "        count+=1\n",
    "    if(y_given[i]==test_y[i] and test_y[i]==1):\n",
    "        count_1+=1\n",
    "    if(y_given[i]==1):\n",
    "        count_actual_1+=1\n",
    "print(count/len(test))\n",
    "print(count_1/(count_actual_1))\n",
    "print(count_1)\n",
    "print(count_actual_1)\n",
    "    "
   ]
  },
  {
   "cell_type": "code",
   "execution_count": null,
   "metadata": {
    "collapsed": true
   },
   "outputs": [],
   "source": []
  }
 ],
 "metadata": {
  "kernelspec": {
   "display_name": "Python 3",
   "language": "python",
   "name": "python3"
  },
  "language_info": {
   "codemirror_mode": {
    "name": "ipython",
    "version": 3
   },
   "file_extension": ".py",
   "mimetype": "text/x-python",
   "name": "python",
   "nbconvert_exporter": "python",
   "pygments_lexer": "ipython3",
   "version": "3.6.3"
  }
 },
 "nbformat": 4,
 "nbformat_minor": 2
}
