{
 "cells": [
  {
   "cell_type": "code",
   "execution_count": 1,
   "metadata": {
    "collapsed": true
   },
   "outputs": [],
   "source": [
    "# Load scikit's random forest classifier library\n",
    "from sklearn.ensemble import RandomForestClassifier\n",
    "\n",
    "# Load pandas\n",
    "import pandas as pd\n",
    "\n",
    "# Load numpy\n",
    "import numpy as np\n",
    "\n",
    "# Set random seed\n",
    "np.random.seed(0)\n",
    "\n",
    "from collections import defaultdict\n",
    "import math\n",
    "import pickle"
   ]
  },
  {
   "cell_type": "code",
   "execution_count": 10,
   "metadata": {},
   "outputs": [],
   "source": [
    "reader=pd.read_csv('F://user_location.csv',delimiter=\",\",header=None)\n",
    "reader.columns=[\"user_id\",\"latitude\",\"longitude\"]"
   ]
  },
  {
   "cell_type": "code",
   "execution_count": 11,
   "metadata": {},
   "outputs": [
    {
     "data": {
      "text/html": [
       "<div>\n",
       "<style>\n",
       "    .dataframe thead tr:only-child th {\n",
       "        text-align: right;\n",
       "    }\n",
       "\n",
       "    .dataframe thead th {\n",
       "        text-align: left;\n",
       "    }\n",
       "\n",
       "    .dataframe tbody tr th {\n",
       "        vertical-align: top;\n",
       "    }\n",
       "</style>\n",
       "<table border=\"1\" class=\"dataframe\">\n",
       "  <thead>\n",
       "    <tr style=\"text-align: right;\">\n",
       "      <th></th>\n",
       "      <th>user_id</th>\n",
       "      <th>latitude</th>\n",
       "      <th>longitude</th>\n",
       "    </tr>\n",
       "  </thead>\n",
       "  <tbody>\n",
       "    <tr>\n",
       "      <th>0</th>\n",
       "      <td>-3i9bhfvrM3F1wsC9XIB8g</td>\n",
       "      <td>33.461890</td>\n",
       "      <td>-112.069980</td>\n",
       "    </tr>\n",
       "    <tr>\n",
       "      <th>1</th>\n",
       "      <td>0mvmUHuGQL2kRRkX14CkTw</td>\n",
       "      <td>36.112532</td>\n",
       "      <td>-115.168108</td>\n",
       "    </tr>\n",
       "    <tr>\n",
       "      <th>2</th>\n",
       "      <td>46wwNRiBGIAJuPlk8TOP_g</td>\n",
       "      <td>36.107079</td>\n",
       "      <td>-115.187514</td>\n",
       "    </tr>\n",
       "    <tr>\n",
       "      <th>3</th>\n",
       "      <td>4X-1cZJ3V3KQLbijv5IwWA</td>\n",
       "      <td>36.120760</td>\n",
       "      <td>-115.171333</td>\n",
       "    </tr>\n",
       "    <tr>\n",
       "      <th>4</th>\n",
       "      <td>5QeFg1CIcgKl7CH7tir8eg</td>\n",
       "      <td>43.844378</td>\n",
       "      <td>-79.387758</td>\n",
       "    </tr>\n",
       "  </tbody>\n",
       "</table>\n",
       "</div>"
      ],
      "text/plain": [
       "                  user_id   latitude   longitude\n",
       "0  -3i9bhfvrM3F1wsC9XIB8g  33.461890 -112.069980\n",
       "1  0mvmUHuGQL2kRRkX14CkTw  36.112532 -115.168108\n",
       "2  46wwNRiBGIAJuPlk8TOP_g  36.107079 -115.187514\n",
       "3  4X-1cZJ3V3KQLbijv5IwWA  36.120760 -115.171333\n",
       "4  5QeFg1CIcgKl7CH7tir8eg  43.844378  -79.387758"
      ]
     },
     "execution_count": 11,
     "metadata": {},
     "output_type": "execute_result"
    }
   ],
   "source": [
    "reader.head()"
   ]
  },
  {
   "cell_type": "code",
   "execution_count": 12,
   "metadata": {},
   "outputs": [
    {
     "data": {
      "text/plain": [
       "3564"
      ]
     },
     "execution_count": 12,
     "metadata": {},
     "output_type": "execute_result"
    }
   ],
   "source": [
    "len(reader)"
   ]
  },
  {
   "cell_type": "code",
   "execution_count": 20,
   "metadata": {
    "collapsed": true
   },
   "outputs": [],
   "source": [
    "#Handersine method for calculating the distance between two coordinates in the globe\n",
    "def calculate_distance(latitude1,longitude1,latitude2,longitude2):\n",
    "    latitude1,longitude1,latitude2,longitude2=map(math.radians,[latitude1,longitude1,latitude2,longitude2])#Converting degrees to radians\n",
    "    net_latitude=latitude2-latitude1\n",
    "    net_longitude=longitude2-longitude1\n",
    "    temp=math.sin(net_latitude/2)**2 + math.cos(latitude1) * math.cos(latitude2) * math.sin(net_longitude/2)**2\n",
    "    return 3956*2*math.asin(math.sqrt(temp))"
   ]
  },
  {
   "cell_type": "code",
   "execution_count": 22,
   "metadata": {},
   "outputs": [
    {
     "data": {
      "text/plain": [
       "0.0"
      ]
     },
     "execution_count": 22,
     "metadata": {},
     "output_type": "execute_result"
    }
   ],
   "source": [
    "calculate_distance(33.461890,-112.069980,33.461890,-112.069980)"
   ]
  },
  {
   "cell_type": "code",
   "execution_count": 42,
   "metadata": {
    "collapsed": true
   },
   "outputs": [],
   "source": [
    "def find_elite(latitude,longitude):\n",
    "    min=9999999\n",
    "    e=\"\"\n",
    "    for index,row in reader.iterrows():\n",
    "        temp=calculate_distance(reader[\"latitude\"][index],reader[\"longitude\"][index],latitude,longitude)\n",
    "        #print(reader[\"user_id\"][index],\" \",reader[\"latitude\"][index],\" \",reader[\"longitude\"][index])\n",
    "        if(temp<min):\n",
    "            #print(temp)\n",
    "            min=temp\n",
    "            e=reader[\"user_id\"][index]\n",
    "            #print(e)\n",
    "    return e,min"
   ]
  },
  {
   "cell_type": "code",
   "execution_count": 43,
   "metadata": {},
   "outputs": [
    {
     "name": "stdout",
     "output_type": "stream",
     "text": [
      "('rhndkISGojCLXT9FC6A8iA', 0.8920162352787153)\n"
     ]
    }
   ],
   "source": [
    "print(find_elite(51.0918130155,-114.031674872))"
   ]
  },
  {
   "cell_type": "code",
   "execution_count": 44,
   "metadata": {},
   "outputs": [
    {
     "name": "stdout",
     "output_type": "stream",
     "text": [
      "('-3i9bhfvrM3F1wsC9XIB8g', 3.152752089890943e-05)\n"
     ]
    }
   ],
   "source": [
    "print(find_elite(33.461890,-112.069980))"
   ]
  },
  {
   "cell_type": "code",
   "execution_count": null,
   "metadata": {
    "collapsed": true
   },
   "outputs": [],
   "source": []
  }
 ],
 "metadata": {
  "kernelspec": {
   "display_name": "Python 3",
   "language": "python",
   "name": "python3"
  },
  "language_info": {
   "codemirror_mode": {
    "name": "ipython",
    "version": 3
   },
   "file_extension": ".py",
   "mimetype": "text/x-python",
   "name": "python",
   "nbconvert_exporter": "python",
   "pygments_lexer": "ipython3",
   "version": "3.6.3"
  }
 },
 "nbformat": 4,
 "nbformat_minor": 2
}
