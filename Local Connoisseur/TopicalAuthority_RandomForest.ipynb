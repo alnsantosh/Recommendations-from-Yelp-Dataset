{
 "cells": [
  {
   "cell_type": "code",
   "execution_count": 1,
   "metadata": {
    "collapsed": true
   },
   "outputs": [],
   "source": [
    "# Load scikit's random forest classifier library\n",
    "from sklearn.ensemble import RandomForestClassifier\n",
    "from sklearn import svm\n",
    "\n",
    "# Load pandas\n",
    "import pandas as pd\n",
    "\n",
    "# Load numpy\n",
    "import numpy as np\n",
    "\n",
    "# Set random seed\n",
    "np.random.seed(0)\n",
    "\n",
    "from collections import defaultdict\n",
    "import math\n",
    "import pickle"
   ]
  },
  {
   "cell_type": "code",
   "execution_count": 3,
   "metadata": {
    "collapsed": true
   },
   "outputs": [],
   "source": [
    "feature_df=pd.read_csv(\"F://topical_features.txt\")"
   ]
  },
  {
   "cell_type": "code",
   "execution_count": 4,
   "metadata": {},
   "outputs": [
    {
     "name": "stdout",
     "output_type": "stream",
     "text": [
      "329897\n"
     ]
    },
    {
     "data": {
      "text/html": [
       "<div>\n",
       "<style>\n",
       "    .dataframe thead tr:only-child th {\n",
       "        text-align: right;\n",
       "    }\n",
       "\n",
       "    .dataframe thead th {\n",
       "        text-align: left;\n",
       "    }\n",
       "\n",
       "    .dataframe tbody tr th {\n",
       "        vertical-align: top;\n",
       "    }\n",
       "</style>\n",
       "<table border=\"1\" class=\"dataframe\">\n",
       "  <thead>\n",
       "    <tr style=\"text-align: right;\">\n",
       "      <th></th>\n",
       "      <th>user_id</th>\n",
       "      <th>review_count</th>\n",
       "      <th>yelping_age</th>\n",
       "      <th>avg_rating</th>\n",
       "      <th>stdev</th>\n",
       "      <th>unique_business_count</th>\n",
       "      <th>y</th>\n",
       "    </tr>\n",
       "  </thead>\n",
       "  <tbody>\n",
       "    <tr>\n",
       "      <th>0</th>\n",
       "      <td>-3bsS2i9xqjNnIA1fRnzIQ</td>\n",
       "      <td>1</td>\n",
       "      <td>6.0</td>\n",
       "      <td>1.000000</td>\n",
       "      <td>0.000000</td>\n",
       "      <td>1</td>\n",
       "      <td>0</td>\n",
       "    </tr>\n",
       "    <tr>\n",
       "      <th>1</th>\n",
       "      <td>-3aeOKu1ph9ZQ7dhCD802A</td>\n",
       "      <td>3</td>\n",
       "      <td>7.0</td>\n",
       "      <td>2.666667</td>\n",
       "      <td>0.942809</td>\n",
       "      <td>3</td>\n",
       "      <td>0</td>\n",
       "    </tr>\n",
       "    <tr>\n",
       "      <th>2</th>\n",
       "      <td>-3i9bhfvrM3F1wsC9XIB8g</td>\n",
       "      <td>1</td>\n",
       "      <td>13.0</td>\n",
       "      <td>4.000000</td>\n",
       "      <td>0.000000</td>\n",
       "      <td>1</td>\n",
       "      <td>1</td>\n",
       "    </tr>\n",
       "    <tr>\n",
       "      <th>3</th>\n",
       "      <td>-55DgUo52I3zW9RxkZ-EAQ</td>\n",
       "      <td>3</td>\n",
       "      <td>5.0</td>\n",
       "      <td>4.333333</td>\n",
       "      <td>0.471405</td>\n",
       "      <td>3</td>\n",
       "      <td>0</td>\n",
       "    </tr>\n",
       "    <tr>\n",
       "      <th>4</th>\n",
       "      <td>-897i_JdWyDsXGUa81XlNg</td>\n",
       "      <td>1</td>\n",
       "      <td>8.0</td>\n",
       "      <td>1.000000</td>\n",
       "      <td>0.000000</td>\n",
       "      <td>1</td>\n",
       "      <td>0</td>\n",
       "    </tr>\n",
       "  </tbody>\n",
       "</table>\n",
       "</div>"
      ],
      "text/plain": [
       "                  user_id  review_count  yelping_age  avg_rating     stdev  \\\n",
       "0  -3bsS2i9xqjNnIA1fRnzIQ             1          6.0    1.000000  0.000000   \n",
       "1  -3aeOKu1ph9ZQ7dhCD802A             3          7.0    2.666667  0.942809   \n",
       "2  -3i9bhfvrM3F1wsC9XIB8g             1         13.0    4.000000  0.000000   \n",
       "3  -55DgUo52I3zW9RxkZ-EAQ             3          5.0    4.333333  0.471405   \n",
       "4  -897i_JdWyDsXGUa81XlNg             1          8.0    1.000000  0.000000   \n",
       "\n",
       "   unique_business_count  y  \n",
       "0                      1  0  \n",
       "1                      3  0  \n",
       "2                      1  1  \n",
       "3                      3  0  \n",
       "4                      1  0  "
      ]
     },
     "execution_count": 4,
     "metadata": {},
     "output_type": "execute_result"
    }
   ],
   "source": [
    "print(len(feature_df))\n",
    "feature_df.head()"
   ]
  },
  {
   "cell_type": "code",
   "execution_count": 5,
   "metadata": {},
   "outputs": [
    {
     "name": "stdout",
     "output_type": "stream",
     "text": [
      "22838\n",
      "307059\n",
      "22838\n",
      "50000\n"
     ]
    }
   ],
   "source": [
    "feature_df_new=feature_df[:]\n",
    "print(len(feature_df_new[feature_df_new['y']==1]))\n",
    "print(len(feature_df_new[feature_df_new['y']==0]))\n",
    "feature_1=feature_df_new[feature_df_new['y']==1]\n",
    "feature_0=feature_df_new[feature_df_new['y']==0][:50000]\n",
    "print(len(feature_1))\n",
    "print(len(feature_0))"
   ]
  },
  {
   "cell_type": "code",
   "execution_count": 6,
   "metadata": {},
   "outputs": [
    {
     "name": "stdout",
     "output_type": "stream",
     "text": [
      "50000\n",
      "22838\n",
      "72838\n"
     ]
    },
    {
     "data": {
      "text/html": [
       "<div>\n",
       "<style>\n",
       "    .dataframe thead tr:only-child th {\n",
       "        text-align: right;\n",
       "    }\n",
       "\n",
       "    .dataframe thead th {\n",
       "        text-align: left;\n",
       "    }\n",
       "\n",
       "    .dataframe tbody tr th {\n",
       "        vertical-align: top;\n",
       "    }\n",
       "</style>\n",
       "<table border=\"1\" class=\"dataframe\">\n",
       "  <thead>\n",
       "    <tr style=\"text-align: right;\">\n",
       "      <th></th>\n",
       "      <th>user_id</th>\n",
       "      <th>review_count</th>\n",
       "      <th>yelping_age</th>\n",
       "      <th>avg_rating</th>\n",
       "      <th>stdev</th>\n",
       "      <th>unique_business_count</th>\n",
       "      <th>y</th>\n",
       "    </tr>\n",
       "  </thead>\n",
       "  <tbody>\n",
       "    <tr>\n",
       "      <th>2</th>\n",
       "      <td>-3i9bhfvrM3F1wsC9XIB8g</td>\n",
       "      <td>1</td>\n",
       "      <td>13.0</td>\n",
       "      <td>4.0</td>\n",
       "      <td>0.0</td>\n",
       "      <td>1</td>\n",
       "      <td>1</td>\n",
       "    </tr>\n",
       "    <tr>\n",
       "      <th>7</th>\n",
       "      <td>-GKEFg_92pp0q842clS_Jw</td>\n",
       "      <td>1</td>\n",
       "      <td>7.0</td>\n",
       "      <td>4.0</td>\n",
       "      <td>0.0</td>\n",
       "      <td>1</td>\n",
       "      <td>1</td>\n",
       "    </tr>\n",
       "    <tr>\n",
       "      <th>19</th>\n",
       "      <td>-3s52C4zL_DHRK0ULG6qtg</td>\n",
       "      <td>1</td>\n",
       "      <td>8.0</td>\n",
       "      <td>4.0</td>\n",
       "      <td>0.0</td>\n",
       "      <td>1</td>\n",
       "      <td>1</td>\n",
       "    </tr>\n",
       "    <tr>\n",
       "      <th>29</th>\n",
       "      <td>-dErbI4sHSkRz6oxjy9L3g</td>\n",
       "      <td>4</td>\n",
       "      <td>7.0</td>\n",
       "      <td>3.5</td>\n",
       "      <td>0.5</td>\n",
       "      <td>4</td>\n",
       "      <td>1</td>\n",
       "    </tr>\n",
       "    <tr>\n",
       "      <th>31</th>\n",
       "      <td>-NVuMUhYiQ3_VhpwBpYCfA</td>\n",
       "      <td>1</td>\n",
       "      <td>7.0</td>\n",
       "      <td>4.0</td>\n",
       "      <td>0.0</td>\n",
       "      <td>1</td>\n",
       "      <td>1</td>\n",
       "    </tr>\n",
       "  </tbody>\n",
       "</table>\n",
       "</div>"
      ],
      "text/plain": [
       "                   user_id  review_count  yelping_age  avg_rating  stdev  \\\n",
       "2   -3i9bhfvrM3F1wsC9XIB8g             1         13.0         4.0    0.0   \n",
       "7   -GKEFg_92pp0q842clS_Jw             1          7.0         4.0    0.0   \n",
       "19  -3s52C4zL_DHRK0ULG6qtg             1          8.0         4.0    0.0   \n",
       "29  -dErbI4sHSkRz6oxjy9L3g             4          7.0         3.5    0.5   \n",
       "31  -NVuMUhYiQ3_VhpwBpYCfA             1          7.0         4.0    0.0   \n",
       "\n",
       "    unique_business_count  y  \n",
       "2                       1  1  \n",
       "7                       1  1  \n",
       "19                      1  1  \n",
       "29                      4  1  \n",
       "31                      1  1  "
      ]
     },
     "execution_count": 6,
     "metadata": {},
     "output_type": "execute_result"
    }
   ],
   "source": [
    "feature_nonskew=feature_1.append(feature_0)\n",
    "print(len(feature_0))\n",
    "print(len(feature_1))\n",
    "print(len(feature_nonskew))\n",
    "feature_nonskew.head()"
   ]
  },
  {
   "cell_type": "code",
   "execution_count": 7,
   "metadata": {},
   "outputs": [
    {
     "name": "stdout",
     "output_type": "stream",
     "text": [
      "54702\n",
      "18136\n"
     ]
    }
   ],
   "source": [
    "#RandomForest on Non-Skewed data\n",
    "feature_nonskew['is_train']=np.random.uniform(0,1,len(feature_nonskew)) <=0.75\n",
    "train=feature_nonskew[feature_nonskew['is_train']==True]\n",
    "test=feature_nonskew[feature_nonskew['is_train']==False]\n",
    "print(len(train))\n",
    "print(len(test))\n",
    "features=feature_nonskew.columns[1:-2]\n",
    "y=train[\"y\"]"
   ]
  },
  {
   "cell_type": "code",
   "execution_count": 8,
   "metadata": {},
   "outputs": [
    {
     "data": {
      "text/plain": [
       "RandomForestClassifier(bootstrap=True, class_weight=None, criterion='gini',\n",
       "            max_depth=None, max_features='auto', max_leaf_nodes=None,\n",
       "            min_impurity_decrease=0.0, min_impurity_split=None,\n",
       "            min_samples_leaf=1, min_samples_split=2,\n",
       "            min_weight_fraction_leaf=0.0, n_estimators=150, n_jobs=1,\n",
       "            oob_score=False, random_state=0, verbose=0, warm_start=False)"
      ]
     },
     "execution_count": 8,
     "metadata": {},
     "output_type": "execute_result"
    }
   ],
   "source": [
    "clf=RandomForestClassifier(random_state=0,n_estimators=150,max_depth=None)\n",
    "clf.fit(train[features],y)"
   ]
  },
  {
   "cell_type": "code",
   "execution_count": 9,
   "metadata": {
    "collapsed": true
   },
   "outputs": [],
   "source": [
    "test_y=clf.predict(test[features])"
   ]
  },
  {
   "cell_type": "code",
   "execution_count": 10,
   "metadata": {},
   "outputs": [
    {
     "name": "stdout",
     "output_type": "stream",
     "text": [
      "<class 'list'>\n",
      "0.761193206881341\n",
      "0.4604871210793762\n",
      "2628\n",
      "5707\n",
      "2628\n",
      "1252\n",
      "Precision:  0.677319587628866\n",
      "Recall:  0.4604871210793762\n",
      "F-Measure:  0.5482424115990404\n"
     ]
    }
   ],
   "source": [
    "count=0\n",
    "count_1=0\n",
    "count_actual_1=0\n",
    "y_given=list(test[\"y\"])\n",
    "print(type(y_given))\n",
    "for i in range(len(test)):\n",
    "    if(y_given[i]==test_y[i]):\n",
    "        count+=1\n",
    "    if(y_given[i]==test_y[i] and test_y[i]==1):\n",
    "        count_1+=1\n",
    "    if(y_given[i]==1):\n",
    "        count_actual_1+=1\n",
    "print(count/len(test))\n",
    "print(count_1/(count_actual_1))\n",
    "print(count_1)\n",
    "print(count_actual_1)\n",
    "print(count_1)\n",
    "fp=0\n",
    "fn=0\n",
    "for i in range(len(y_given)):\n",
    "    if(y_given[i]==0 and test_y[i]==1):\n",
    "        fp+=1\n",
    "    if(y_given[i]==1 and test_y[i]==0):\n",
    "        fn+=1\n",
    "print(fp)\n",
    "tp=count_1\n",
    "precision=tp/(tp+fp)\n",
    "recall=tp/(tp+fn)\n",
    "f_measure=2*(precision*recall)/(precision+recall)\n",
    "print(\"Precision: \",precision)\n",
    "print(\"Recall: \",recall)\n",
    "print(\"F-Measure: \",f_measure)"
   ]
  },
  {
   "cell_type": "code",
   "execution_count": 11,
   "metadata": {},
   "outputs": [
    {
     "data": {
      "text/plain": [
       "RandomForestClassifier(bootstrap=True, class_weight=None, criterion='gini',\n",
       "            max_depth=None, max_features='auto', max_leaf_nodes=None,\n",
       "            min_impurity_decrease=0.0, min_impurity_split=None,\n",
       "            min_samples_leaf=1, min_samples_split=2,\n",
       "            min_weight_fraction_leaf=0.0, n_estimators=100, n_jobs=1,\n",
       "            oob_score=False, random_state=0, verbose=0, warm_start=False)"
      ]
     },
     "execution_count": 11,
     "metadata": {},
     "output_type": "execute_result"
    }
   ],
   "source": [
    "clf=RandomForestClassifier(random_state=0,n_estimators=100,max_depth=None)\n",
    "clf.fit(train[features],y)"
   ]
  },
  {
   "cell_type": "code",
   "execution_count": 12,
   "metadata": {
    "collapsed": true
   },
   "outputs": [],
   "source": [
    "test_y=clf.predict(test[features])"
   ]
  },
  {
   "cell_type": "code",
   "execution_count": 13,
   "metadata": {},
   "outputs": [
    {
     "name": "stdout",
     "output_type": "stream",
     "text": [
      "<class 'list'>\n",
      "0.7619651521835025\n",
      "0.46101279130891887\n",
      "2631\n",
      "5707\n",
      "2631\n",
      "1241\n",
      "Precision:  0.6794938016528925\n",
      "Recall:  0.46101279130891887\n",
      "F-Measure:  0.5493266520513623\n"
     ]
    }
   ],
   "source": [
    "count=0\n",
    "count_1=0\n",
    "count_actual_1=0\n",
    "y_given=list(test[\"y\"])\n",
    "print(type(y_given))\n",
    "for i in range(len(test)):\n",
    "    if(y_given[i]==test_y[i]):\n",
    "        count+=1\n",
    "    if(y_given[i]==test_y[i] and test_y[i]==1):\n",
    "        count_1+=1\n",
    "    if(y_given[i]==1):\n",
    "        count_actual_1+=1\n",
    "print(count/len(test))\n",
    "print(count_1/(count_actual_1))\n",
    "print(count_1)\n",
    "print(count_actual_1)\n",
    "print(count_1)\n",
    "fp=0\n",
    "fn=0\n",
    "for i in range(len(y_given)):\n",
    "    if(y_given[i]==0 and test_y[i]==1):\n",
    "        fp+=1\n",
    "    if(y_given[i]==1 and test_y[i]==0):\n",
    "        fn+=1\n",
    "print(fp)\n",
    "tp=count_1\n",
    "precision=tp/(tp+fp)\n",
    "recall=tp/(tp+fn)\n",
    "f_measure=2*(precision*recall)/(precision+recall)\n",
    "print(\"Precision: \",precision)\n",
    "print(\"Recall: \",recall)\n",
    "print(\"F-Measure: \",f_measure)"
   ]
  },
  {
   "cell_type": "code",
   "execution_count": 35,
   "metadata": {},
   "outputs": [
    {
     "data": {
      "text/plain": [
       "RandomForestClassifier(bootstrap=True, class_weight=None, criterion='gini',\n",
       "            max_depth=None, max_features='auto', max_leaf_nodes=None,\n",
       "            min_impurity_decrease=0.0, min_impurity_split=None,\n",
       "            min_samples_leaf=1, min_samples_split=2,\n",
       "            min_weight_fraction_leaf=0.0, n_estimators=50, n_jobs=1,\n",
       "            oob_score=False, random_state=0, verbose=0, warm_start=False)"
      ]
     },
     "execution_count": 35,
     "metadata": {},
     "output_type": "execute_result"
    }
   ],
   "source": [
    "clf=RandomForestClassifier(random_state=0,n_estimators=50,max_depth=None)\n",
    "clf.fit(train[features],y)"
   ]
  },
  {
   "cell_type": "code",
   "execution_count": 36,
   "metadata": {
    "collapsed": true
   },
   "outputs": [],
   "source": [
    "test_y=clf.predict(test[features])"
   ]
  },
  {
   "cell_type": "code",
   "execution_count": 37,
   "metadata": {},
   "outputs": [
    {
     "name": "stdout",
     "output_type": "stream",
     "text": [
      "<class 'list'>\n",
      "0.7615240405822673\n",
      "0.4585596635710531\n",
      "2617\n",
      "5707\n",
      "2617\n",
      "1235\n",
      "Precision:  0.6793873312564901\n",
      "Recall:  0.4585596635710531\n",
      "F-Measure:  0.5475468145203473\n"
     ]
    }
   ],
   "source": [
    "count=0\n",
    "count_1=0\n",
    "count_actual_1=0\n",
    "y_given=list(test[\"y\"])\n",
    "print(type(y_given))\n",
    "for i in range(len(test)):\n",
    "    if(y_given[i]==test_y[i]):\n",
    "        count+=1\n",
    "    if(y_given[i]==test_y[i] and test_y[i]==1):\n",
    "        count_1+=1\n",
    "    if(y_given[i]==1):\n",
    "        count_actual_1+=1\n",
    "print(count/len(test))\n",
    "print(count_1/(count_actual_1))\n",
    "print(count_1)\n",
    "print(count_actual_1)\n",
    "print(count_1)\n",
    "fp=0\n",
    "fn=0\n",
    "for i in range(len(y_given)):\n",
    "    if(y_given[i]==0 and test_y[i]==1):\n",
    "        fp+=1\n",
    "    if(y_given[i]==1 and test_y[i]==0):\n",
    "        fn+=1\n",
    "print(fp)\n",
    "tp=count_1\n",
    "precision=tp/(tp+fp)\n",
    "recall=tp/(tp+fn)\n",
    "f_measure=2*(precision*recall)/(precision+recall)\n",
    "print(\"Precision: \",precision)\n",
    "print(\"Recall: \",recall)\n",
    "print(\"F-Measure: \",f_measure)"
   ]
  },
  {
   "cell_type": "code",
   "execution_count": 20,
   "metadata": {},
   "outputs": [
    {
     "data": {
      "text/plain": [
       "RandomForestClassifier(bootstrap=True, class_weight=None, criterion='gini',\n",
       "            max_depth=None, max_features='auto', max_leaf_nodes=None,\n",
       "            min_impurity_decrease=0.0, min_impurity_split=None,\n",
       "            min_samples_leaf=1, min_samples_split=2,\n",
       "            min_weight_fraction_leaf=0.0, n_estimators=1, n_jobs=1,\n",
       "            oob_score=False, random_state=0, verbose=0, warm_start=False)"
      ]
     },
     "execution_count": 20,
     "metadata": {},
     "output_type": "execute_result"
    }
   ],
   "source": [
    "clf=RandomForestClassifier(random_state=0,n_estimators=1,max_depth=None)\n",
    "clf.fit(train[features],y)"
   ]
  },
  {
   "cell_type": "code",
   "execution_count": 21,
   "metadata": {
    "collapsed": true
   },
   "outputs": [],
   "source": [
    "test_y=clf.predict(test[features])"
   ]
  },
  {
   "cell_type": "code",
   "execution_count": 22,
   "metadata": {},
   "outputs": [
    {
     "name": "stdout",
     "output_type": "stream",
     "text": [
      "<class 'list'>\n",
      "0.7540251433612704\n",
      "0.4247415454704749\n",
      "2424\n",
      "5707\n",
      "2424\n",
      "1178\n",
      "Precision:  0.6729594669627984\n",
      "Recall:  0.4247415454704749\n",
      "F-Measure:  0.5207863358040605\n"
     ]
    }
   ],
   "source": [
    "count=0\n",
    "count_1=0\n",
    "count_actual_1=0\n",
    "y_given=list(test[\"y\"])\n",
    "print(type(y_given))\n",
    "for i in range(len(test)):\n",
    "    if(y_given[i]==test_y[i]):\n",
    "        count+=1\n",
    "    if(y_given[i]==test_y[i] and test_y[i]==1):\n",
    "        count_1+=1\n",
    "    if(y_given[i]==1):\n",
    "        count_actual_1+=1\n",
    "print(count/len(test))\n",
    "print(count_1/(count_actual_1))\n",
    "print(count_1)\n",
    "print(count_actual_1)\n",
    "print(count_1)\n",
    "fp=0\n",
    "fn=0\n",
    "for i in range(len(y_given)):\n",
    "    if(y_given[i]==0 and test_y[i]==1):\n",
    "        fp+=1\n",
    "    if(y_given[i]==1 and test_y[i]==0):\n",
    "        fn+=1\n",
    "print(fp)\n",
    "tp=count_1\n",
    "precision=tp/(tp+fp)\n",
    "recall=tp/(tp+fn)\n",
    "f_measure=2*(precision*recall)/(precision+recall)\n",
    "print(\"Precision: \",precision)\n",
    "print(\"Recall: \",recall)\n",
    "print(\"F-Measure: \",f_measure)"
   ]
  },
  {
   "cell_type": "code",
   "execution_count": 17,
   "metadata": {},
   "outputs": [
    {
     "data": {
      "text/plain": [
       "RandomForestClassifier(bootstrap=True, class_weight=None, criterion='gini',\n",
       "            max_depth=None, max_features='auto', max_leaf_nodes=None,\n",
       "            min_impurity_decrease=0.0, min_impurity_split=None,\n",
       "            min_samples_leaf=1, min_samples_split=2,\n",
       "            min_weight_fraction_leaf=0.0, n_estimators=200, n_jobs=1,\n",
       "            oob_score=False, random_state=0, verbose=0, warm_start=False)"
      ]
     },
     "execution_count": 17,
     "metadata": {},
     "output_type": "execute_result"
    }
   ],
   "source": [
    "clf=RandomForestClassifier(random_state=0,n_estimators=200,max_depth=None)\n",
    "clf.fit(train[features],y)"
   ]
  },
  {
   "cell_type": "code",
   "execution_count": 18,
   "metadata": {
    "collapsed": true
   },
   "outputs": [],
   "source": [
    "test_y=clf.predict(test[features])"
   ]
  },
  {
   "cell_type": "code",
   "execution_count": 19,
   "metadata": {},
   "outputs": [
    {
     "name": "stdout",
     "output_type": "stream",
     "text": [
      "<class 'list'>\n",
      "0.7620754300838112\n",
      "0.4617136849483091\n",
      "2635\n",
      "5707\n",
      "2635\n",
      "1243\n",
      "Precision:  0.6794739556472409\n",
      "Recall:  0.4617136849483091\n",
      "F-Measure:  0.5498174230568598\n"
     ]
    }
   ],
   "source": [
    "count=0\n",
    "count_1=0\n",
    "count_actual_1=0\n",
    "y_given=list(test[\"y\"])\n",
    "print(type(y_given))\n",
    "for i in range(len(test)):\n",
    "    if(y_given[i]==test_y[i]):\n",
    "        count+=1\n",
    "    if(y_given[i]==test_y[i] and test_y[i]==1):\n",
    "        count_1+=1\n",
    "    if(y_given[i]==1):\n",
    "        count_actual_1+=1\n",
    "print(count/len(test))\n",
    "print(count_1/(count_actual_1))\n",
    "print(count_1)\n",
    "print(count_actual_1)\n",
    "print(count_1)\n",
    "fp=0\n",
    "fn=0\n",
    "for i in range(len(y_given)):\n",
    "    if(y_given[i]==0 and test_y[i]==1):\n",
    "        fp+=1\n",
    "    if(y_given[i]==1 and test_y[i]==0):\n",
    "        fn+=1\n",
    "print(fp)\n",
    "tp=count_1\n",
    "precision=tp/(tp+fp)\n",
    "recall=tp/(tp+fn)\n",
    "f_measure=2*(precision*recall)/(precision+recall)\n",
    "print(\"Precision: \",precision)\n",
    "print(\"Recall: \",recall)\n",
    "print(\"F-Measure: \",f_measure)"
   ]
  },
  {
   "cell_type": "code",
   "execution_count": 53,
   "metadata": {},
   "outputs": [
    {
     "data": {
      "text/plain": [
       "RandomForestClassifier(bootstrap=True, class_weight=None, criterion='gini',\n",
       "            max_depth=None, max_features='auto', max_leaf_nodes=50,\n",
       "            min_impurity_decrease=0.0, min_impurity_split=None,\n",
       "            min_samples_leaf=1, min_samples_split=2,\n",
       "            min_weight_fraction_leaf=0.0, n_estimators=150, n_jobs=1,\n",
       "            oob_score=False, random_state=0, verbose=0, warm_start=False)"
      ]
     },
     "execution_count": 53,
     "metadata": {},
     "output_type": "execute_result"
    }
   ],
   "source": [
    "clf=RandomForestClassifier(random_state=0,n_estimators=150,max_depth=None,max_leaf_nodes=50)\n",
    "clf.fit(train[features],y)"
   ]
  },
  {
   "cell_type": "code",
   "execution_count": 54,
   "metadata": {
    "collapsed": true
   },
   "outputs": [],
   "source": [
    "test_y=clf.predict(test[features])"
   ]
  },
  {
   "cell_type": "code",
   "execution_count": 55,
   "metadata": {},
   "outputs": [
    {
     "name": "stdout",
     "output_type": "stream",
     "text": [
      "<class 'list'>\n",
      "0.765438906043229\n",
      "0.4900998773436131\n",
      "2797\n",
      "5707\n",
      "2797\n",
      "1344\n",
      "Precision:  0.6754407148031877\n",
      "Recall:  0.4900998773436131\n",
      "F-Measure:  0.568034118602762\n"
     ]
    }
   ],
   "source": [
    "count=0\n",
    "count_1=0\n",
    "count_actual_1=0\n",
    "y_given=list(test[\"y\"])\n",
    "print(type(y_given))\n",
    "for i in range(len(test)):\n",
    "    if(y_given[i]==test_y[i]):\n",
    "        count+=1\n",
    "    if(y_given[i]==test_y[i] and test_y[i]==1):\n",
    "        count_1+=1\n",
    "    if(y_given[i]==1):\n",
    "        count_actual_1+=1\n",
    "print(count/len(test))\n",
    "print(count_1/(count_actual_1))\n",
    "print(count_1)\n",
    "print(count_actual_1)\n",
    "print(count_1)\n",
    "fp=0\n",
    "fn=0\n",
    "for i in range(len(y_given)):\n",
    "    if(y_given[i]==0 and test_y[i]==1):\n",
    "        fp+=1\n",
    "    if(y_given[i]==1 and test_y[i]==0):\n",
    "        fn+=1\n",
    "print(fp)\n",
    "tp=count_1\n",
    "precision=tp/(tp+fp)\n",
    "recall=tp/(tp+fn)\n",
    "f_measure=2*(precision*recall)/(precision+recall)\n",
    "print(\"Precision: \",precision)\n",
    "print(\"Recall: \",recall)\n",
    "print(\"F-Measure: \",f_measure)"
   ]
  },
  {
   "cell_type": "code",
   "execution_count": 56,
   "metadata": {},
   "outputs": [
    {
     "data": {
      "text/plain": [
       "RandomForestClassifier(bootstrap=True, class_weight=None, criterion='gini',\n",
       "            max_depth=None, max_features='auto', max_leaf_nodes=75,\n",
       "            min_impurity_decrease=0.0, min_impurity_split=None,\n",
       "            min_samples_leaf=1, min_samples_split=2,\n",
       "            min_weight_fraction_leaf=0.0, n_estimators=150, n_jobs=1,\n",
       "            oob_score=False, random_state=0, verbose=0, warm_start=False)"
      ]
     },
     "execution_count": 56,
     "metadata": {},
     "output_type": "execute_result"
    }
   ],
   "source": [
    "clf=RandomForestClassifier(random_state=0,n_estimators=150,max_depth=None,max_leaf_nodes=75)\n",
    "clf.fit(train[features],y)"
   ]
  },
  {
   "cell_type": "code",
   "execution_count": 57,
   "metadata": {
    "collapsed": true
   },
   "outputs": [],
   "source": [
    "test_y=clf.predict(test[features])"
   ]
  },
  {
   "cell_type": "code",
   "execution_count": 58,
   "metadata": {},
   "outputs": [
    {
     "name": "stdout",
     "output_type": "stream",
     "text": [
      "<class 'list'>\n",
      "0.7662659902955448\n",
      "0.4918521114420887\n",
      "2807\n",
      "5707\n",
      "2807\n",
      "1339\n",
      "Precision:  0.6770381090207429\n",
      "Recall:  0.4918521114420887\n",
      "F-Measure:  0.5697757028316249\n"
     ]
    }
   ],
   "source": [
    "count=0\n",
    "count_1=0\n",
    "count_actual_1=0\n",
    "y_given=list(test[\"y\"])\n",
    "print(type(y_given))\n",
    "for i in range(len(test)):\n",
    "    if(y_given[i]==test_y[i]):\n",
    "        count+=1\n",
    "    if(y_given[i]==test_y[i] and test_y[i]==1):\n",
    "        count_1+=1\n",
    "    if(y_given[i]==1):\n",
    "        count_actual_1+=1\n",
    "print(count/len(test))\n",
    "print(count_1/(count_actual_1))\n",
    "print(count_1)\n",
    "print(count_actual_1)\n",
    "print(count_1)\n",
    "fp=0\n",
    "fn=0\n",
    "for i in range(len(y_given)):\n",
    "    if(y_given[i]==0 and test_y[i]==1):\n",
    "        fp+=1\n",
    "    if(y_given[i]==1 and test_y[i]==0):\n",
    "        fn+=1\n",
    "print(fp)\n",
    "tp=count_1\n",
    "precision=tp/(tp+fp)\n",
    "recall=tp/(tp+fn)\n",
    "f_measure=2*(precision*recall)/(precision+recall)\n",
    "print(\"Precision: \",precision)\n",
    "print(\"Recall: \",recall)\n",
    "print(\"F-Measure: \",f_measure)"
   ]
  },
  {
   "cell_type": "code",
   "execution_count": 59,
   "metadata": {},
   "outputs": [
    {
     "data": {
      "text/plain": [
       "RandomForestClassifier(bootstrap=True, class_weight=None, criterion='gini',\n",
       "            max_depth=None, max_features='auto', max_leaf_nodes=25,\n",
       "            min_impurity_decrease=0.0, min_impurity_split=None,\n",
       "            min_samples_leaf=1, min_samples_split=2,\n",
       "            min_weight_fraction_leaf=0.0, n_estimators=150, n_jobs=1,\n",
       "            oob_score=False, random_state=0, verbose=0, warm_start=False)"
      ]
     },
     "execution_count": 59,
     "metadata": {},
     "output_type": "execute_result"
    }
   ],
   "source": [
    "clf=RandomForestClassifier(random_state=0,n_estimators=150,max_depth=None,max_leaf_nodes=25)\n",
    "clf.fit(train[features],y)"
   ]
  },
  {
   "cell_type": "code",
   "execution_count": 60,
   "metadata": {
    "collapsed": true
   },
   "outputs": [],
   "source": [
    "test_y=clf.predict(test[features])"
   ]
  },
  {
   "cell_type": "code",
   "execution_count": 61,
   "metadata": {},
   "outputs": [
    {
     "name": "stdout",
     "output_type": "stream",
     "text": [
      "<class 'list'>\n",
      "0.765880017644464\n",
      "0.43858419484843175\n",
      "2503\n",
      "5707\n",
      "2503\n",
      "1042\n",
      "Precision:  0.706064880112835\n",
      "Recall:  0.43858419484843175\n",
      "F-Measure:  0.5410722006052745\n"
     ]
    }
   ],
   "source": [
    "count=0\n",
    "count_1=0\n",
    "count_actual_1=0\n",
    "y_given=list(test[\"y\"])\n",
    "print(type(y_given))\n",
    "for i in range(len(test)):\n",
    "    if(y_given[i]==test_y[i]):\n",
    "        count+=1\n",
    "    if(y_given[i]==test_y[i] and test_y[i]==1):\n",
    "        count_1+=1\n",
    "    if(y_given[i]==1):\n",
    "        count_actual_1+=1\n",
    "print(count/len(test))\n",
    "print(count_1/(count_actual_1))\n",
    "print(count_1)\n",
    "print(count_actual_1)\n",
    "print(count_1)\n",
    "fp=0\n",
    "fn=0\n",
    "for i in range(len(y_given)):\n",
    "    if(y_given[i]==0 and test_y[i]==1):\n",
    "        fp+=1\n",
    "    if(y_given[i]==1 and test_y[i]==0):\n",
    "        fn+=1\n",
    "print(fp)\n",
    "tp=count_1\n",
    "precision=tp/(tp+fp)\n",
    "recall=tp/(tp+fn)\n",
    "f_measure=2*(precision*recall)/(precision+recall)\n",
    "print(\"Precision: \",precision)\n",
    "print(\"Recall: \",recall)\n",
    "print(\"F-Measure: \",f_measure)"
   ]
  },
  {
   "cell_type": "code",
   "execution_count": 62,
   "metadata": {},
   "outputs": [
    {
     "data": {
      "text/plain": [
       "RandomForestClassifier(bootstrap=True, class_weight=None, criterion='gini',\n",
       "            max_depth=None, max_features='auto', max_leaf_nodes=100,\n",
       "            min_impurity_decrease=0.0, min_impurity_split=None,\n",
       "            min_samples_leaf=1, min_samples_split=2,\n",
       "            min_weight_fraction_leaf=0.0, n_estimators=150, n_jobs=1,\n",
       "            oob_score=False, random_state=0, verbose=0, warm_start=False)"
      ]
     },
     "execution_count": 62,
     "metadata": {},
     "output_type": "execute_result"
    }
   ],
   "source": [
    "clf=RandomForestClassifier(random_state=0,n_estimators=150,max_depth=None,max_leaf_nodes=100)\n",
    "clf.fit(train[features],y)"
   ]
  },
  {
   "cell_type": "code",
   "execution_count": 63,
   "metadata": {
    "collapsed": true
   },
   "outputs": [],
   "source": [
    "test_y=clf.predict(test[features])"
   ]
  },
  {
   "cell_type": "code",
   "execution_count": 64,
   "metadata": {},
   "outputs": [
    {
     "name": "stdout",
     "output_type": "stream",
     "text": [
      "<class 'list'>\n",
      "0.7690229378032643\n",
      "0.47485544068687574\n",
      "2710\n",
      "5707\n",
      "2710\n",
      "1192\n",
      "Precision:  0.6945156330087134\n",
      "Recall:  0.47485544068687574\n",
      "F-Measure:  0.5640545322093871\n"
     ]
    }
   ],
   "source": [
    "count=0\n",
    "count_1=0\n",
    "count_actual_1=0\n",
    "y_given=list(test[\"y\"])\n",
    "print(type(y_given))\n",
    "for i in range(len(test)):\n",
    "    if(y_given[i]==test_y[i]):\n",
    "        count+=1\n",
    "    if(y_given[i]==test_y[i] and test_y[i]==1):\n",
    "        count_1+=1\n",
    "    if(y_given[i]==1):\n",
    "        count_actual_1+=1\n",
    "print(count/len(test))\n",
    "print(count_1/(count_actual_1))\n",
    "print(count_1)\n",
    "print(count_actual_1)\n",
    "print(count_1)\n",
    "fp=0\n",
    "fn=0\n",
    "for i in range(len(y_given)):\n",
    "    if(y_given[i]==0 and test_y[i]==1):\n",
    "        fp+=1\n",
    "    if(y_given[i]==1 and test_y[i]==0):\n",
    "        fn+=1\n",
    "print(fp)\n",
    "tp=count_1\n",
    "precision=tp/(tp+fp)\n",
    "recall=tp/(tp+fn)\n",
    "f_measure=2*(precision*recall)/(precision+recall)\n",
    "print(\"Precision: \",precision)\n",
    "print(\"Recall: \",recall)\n",
    "print(\"F-Measure: \",f_measure)"
   ]
  },
  {
   "cell_type": "code",
   "execution_count": null,
   "metadata": {
    "collapsed": true
   },
   "outputs": [],
   "source": []
  }
 ],
 "metadata": {
  "kernelspec": {
   "display_name": "Python 3",
   "language": "python",
   "name": "python3"
  },
  "language_info": {
   "codemirror_mode": {
    "name": "ipython",
    "version": 3
   },
   "file_extension": ".py",
   "mimetype": "text/x-python",
   "name": "python",
   "nbconvert_exporter": "python",
   "pygments_lexer": "ipython3",
   "version": "3.6.3"
  }
 },
 "nbformat": 4,
 "nbformat_minor": 2
}
