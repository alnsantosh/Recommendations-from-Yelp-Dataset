{
 "cells": [
  {
   "cell_type": "code",
   "execution_count": 1,
   "metadata": {
    "collapsed": true
   },
   "outputs": [],
   "source": [
    "# Load scikit's random forest classifier library\n",
    "from sklearn.ensemble import RandomForestClassifier\n",
    "from sklearn import svm\n",
    "\n",
    "# Load pandas\n",
    "import pandas as pd\n",
    "\n",
    "# Load numpy\n",
    "import numpy as np\n",
    "\n",
    "# Set random seed\n",
    "np.random.seed(0)\n",
    "\n",
    "from collections import defaultdict\n",
    "import math\n",
    "import pickle"
   ]
  },
  {
   "cell_type": "code",
   "execution_count": 2,
   "metadata": {},
   "outputs": [],
   "source": [
    "feature_df=pd.read_csv(\"F://topical_features.txt\")"
   ]
  },
  {
   "cell_type": "code",
   "execution_count": 3,
   "metadata": {},
   "outputs": [
    {
     "name": "stdout",
     "output_type": "stream",
     "text": [
      "329897\n"
     ]
    },
    {
     "data": {
      "text/html": [
       "<div>\n",
       "<style>\n",
       "    .dataframe thead tr:only-child th {\n",
       "        text-align: right;\n",
       "    }\n",
       "\n",
       "    .dataframe thead th {\n",
       "        text-align: left;\n",
       "    }\n",
       "\n",
       "    .dataframe tbody tr th {\n",
       "        vertical-align: top;\n",
       "    }\n",
       "</style>\n",
       "<table border=\"1\" class=\"dataframe\">\n",
       "  <thead>\n",
       "    <tr style=\"text-align: right;\">\n",
       "      <th></th>\n",
       "      <th>user_id</th>\n",
       "      <th>review_count</th>\n",
       "      <th>yelping_age</th>\n",
       "      <th>avg_rating</th>\n",
       "      <th>stdev</th>\n",
       "      <th>unique_business_count</th>\n",
       "      <th>y</th>\n",
       "    </tr>\n",
       "  </thead>\n",
       "  <tbody>\n",
       "    <tr>\n",
       "      <th>0</th>\n",
       "      <td>-3bsS2i9xqjNnIA1fRnzIQ</td>\n",
       "      <td>1</td>\n",
       "      <td>6.0</td>\n",
       "      <td>1.000000</td>\n",
       "      <td>0.000000</td>\n",
       "      <td>1</td>\n",
       "      <td>0</td>\n",
       "    </tr>\n",
       "    <tr>\n",
       "      <th>1</th>\n",
       "      <td>-3aeOKu1ph9ZQ7dhCD802A</td>\n",
       "      <td>3</td>\n",
       "      <td>7.0</td>\n",
       "      <td>2.666667</td>\n",
       "      <td>0.942809</td>\n",
       "      <td>3</td>\n",
       "      <td>0</td>\n",
       "    </tr>\n",
       "    <tr>\n",
       "      <th>2</th>\n",
       "      <td>-3i9bhfvrM3F1wsC9XIB8g</td>\n",
       "      <td>1</td>\n",
       "      <td>13.0</td>\n",
       "      <td>4.000000</td>\n",
       "      <td>0.000000</td>\n",
       "      <td>1</td>\n",
       "      <td>1</td>\n",
       "    </tr>\n",
       "    <tr>\n",
       "      <th>3</th>\n",
       "      <td>-55DgUo52I3zW9RxkZ-EAQ</td>\n",
       "      <td>3</td>\n",
       "      <td>5.0</td>\n",
       "      <td>4.333333</td>\n",
       "      <td>0.471405</td>\n",
       "      <td>3</td>\n",
       "      <td>0</td>\n",
       "    </tr>\n",
       "    <tr>\n",
       "      <th>4</th>\n",
       "      <td>-897i_JdWyDsXGUa81XlNg</td>\n",
       "      <td>1</td>\n",
       "      <td>8.0</td>\n",
       "      <td>1.000000</td>\n",
       "      <td>0.000000</td>\n",
       "      <td>1</td>\n",
       "      <td>0</td>\n",
       "    </tr>\n",
       "  </tbody>\n",
       "</table>\n",
       "</div>"
      ],
      "text/plain": [
       "                  user_id  review_count  yelping_age  avg_rating     stdev  \\\n",
       "0  -3bsS2i9xqjNnIA1fRnzIQ             1          6.0    1.000000  0.000000   \n",
       "1  -3aeOKu1ph9ZQ7dhCD802A             3          7.0    2.666667  0.942809   \n",
       "2  -3i9bhfvrM3F1wsC9XIB8g             1         13.0    4.000000  0.000000   \n",
       "3  -55DgUo52I3zW9RxkZ-EAQ             3          5.0    4.333333  0.471405   \n",
       "4  -897i_JdWyDsXGUa81XlNg             1          8.0    1.000000  0.000000   \n",
       "\n",
       "   unique_business_count  y  \n",
       "0                      1  0  \n",
       "1                      3  0  \n",
       "2                      1  1  \n",
       "3                      3  0  \n",
       "4                      1  0  "
      ]
     },
     "execution_count": 3,
     "metadata": {},
     "output_type": "execute_result"
    }
   ],
   "source": [
    "print(len(feature_df))\n",
    "feature_df.head()"
   ]
  },
  {
   "cell_type": "code",
   "execution_count": 11,
   "metadata": {},
   "outputs": [
    {
     "name": "stdout",
     "output_type": "stream",
     "text": [
      "22838\n",
      "307059\n",
      "22838\n",
      "50000\n"
     ]
    }
   ],
   "source": [
    "feature_df_new=feature_df[:]\n",
    "print(len(feature_df_new[feature_df_new['y']==1]))\n",
    "print(len(feature_df_new[feature_df_new['y']==0]))\n",
    "feature_1=feature_df_new[feature_df_new['y']==1]\n",
    "feature_0=feature_df_new[feature_df_new['y']==0][:50000]\n",
    "print(len(feature_1))\n",
    "print(len(feature_0))"
   ]
  },
  {
   "cell_type": "code",
   "execution_count": 12,
   "metadata": {},
   "outputs": [
    {
     "name": "stdout",
     "output_type": "stream",
     "text": [
      "50000\n",
      "22838\n",
      "72838\n"
     ]
    },
    {
     "data": {
      "text/html": [
       "<div>\n",
       "<style>\n",
       "    .dataframe thead tr:only-child th {\n",
       "        text-align: right;\n",
       "    }\n",
       "\n",
       "    .dataframe thead th {\n",
       "        text-align: left;\n",
       "    }\n",
       "\n",
       "    .dataframe tbody tr th {\n",
       "        vertical-align: top;\n",
       "    }\n",
       "</style>\n",
       "<table border=\"1\" class=\"dataframe\">\n",
       "  <thead>\n",
       "    <tr style=\"text-align: right;\">\n",
       "      <th></th>\n",
       "      <th>user_id</th>\n",
       "      <th>review_count</th>\n",
       "      <th>yelping_age</th>\n",
       "      <th>avg_rating</th>\n",
       "      <th>stdev</th>\n",
       "      <th>unique_business_count</th>\n",
       "      <th>y</th>\n",
       "    </tr>\n",
       "  </thead>\n",
       "  <tbody>\n",
       "    <tr>\n",
       "      <th>2</th>\n",
       "      <td>-3i9bhfvrM3F1wsC9XIB8g</td>\n",
       "      <td>1</td>\n",
       "      <td>13.0</td>\n",
       "      <td>4.0</td>\n",
       "      <td>0.0</td>\n",
       "      <td>1</td>\n",
       "      <td>1</td>\n",
       "    </tr>\n",
       "    <tr>\n",
       "      <th>7</th>\n",
       "      <td>-GKEFg_92pp0q842clS_Jw</td>\n",
       "      <td>1</td>\n",
       "      <td>7.0</td>\n",
       "      <td>4.0</td>\n",
       "      <td>0.0</td>\n",
       "      <td>1</td>\n",
       "      <td>1</td>\n",
       "    </tr>\n",
       "    <tr>\n",
       "      <th>19</th>\n",
       "      <td>-3s52C4zL_DHRK0ULG6qtg</td>\n",
       "      <td>1</td>\n",
       "      <td>8.0</td>\n",
       "      <td>4.0</td>\n",
       "      <td>0.0</td>\n",
       "      <td>1</td>\n",
       "      <td>1</td>\n",
       "    </tr>\n",
       "    <tr>\n",
       "      <th>29</th>\n",
       "      <td>-dErbI4sHSkRz6oxjy9L3g</td>\n",
       "      <td>4</td>\n",
       "      <td>7.0</td>\n",
       "      <td>3.5</td>\n",
       "      <td>0.5</td>\n",
       "      <td>4</td>\n",
       "      <td>1</td>\n",
       "    </tr>\n",
       "    <tr>\n",
       "      <th>31</th>\n",
       "      <td>-NVuMUhYiQ3_VhpwBpYCfA</td>\n",
       "      <td>1</td>\n",
       "      <td>7.0</td>\n",
       "      <td>4.0</td>\n",
       "      <td>0.0</td>\n",
       "      <td>1</td>\n",
       "      <td>1</td>\n",
       "    </tr>\n",
       "  </tbody>\n",
       "</table>\n",
       "</div>"
      ],
      "text/plain": [
       "                   user_id  review_count  yelping_age  avg_rating  stdev  \\\n",
       "2   -3i9bhfvrM3F1wsC9XIB8g             1         13.0         4.0    0.0   \n",
       "7   -GKEFg_92pp0q842clS_Jw             1          7.0         4.0    0.0   \n",
       "19  -3s52C4zL_DHRK0ULG6qtg             1          8.0         4.0    0.0   \n",
       "29  -dErbI4sHSkRz6oxjy9L3g             4          7.0         3.5    0.5   \n",
       "31  -NVuMUhYiQ3_VhpwBpYCfA             1          7.0         4.0    0.0   \n",
       "\n",
       "    unique_business_count  y  \n",
       "2                       1  1  \n",
       "7                       1  1  \n",
       "19                      1  1  \n",
       "29                      4  1  \n",
       "31                      1  1  "
      ]
     },
     "execution_count": 12,
     "metadata": {},
     "output_type": "execute_result"
    }
   ],
   "source": [
    "feature_nonskew=feature_1.append(feature_0)\n",
    "print(len(feature_0))\n",
    "print(len(feature_1))\n",
    "print(len(feature_nonskew))\n",
    "feature_nonskew.head()"
   ]
  },
  {
   "cell_type": "code",
   "execution_count": 13,
   "metadata": {},
   "outputs": [
    {
     "name": "stdout",
     "output_type": "stream",
     "text": [
      "54397\n",
      "18441\n"
     ]
    }
   ],
   "source": [
    "#RandomForest on Non-Skewed data\n",
    "feature_nonskew['is_train']=np.random.uniform(0,1,len(feature_nonskew)) <=0.75\n",
    "train=feature_nonskew[feature_nonskew['is_train']==True]\n",
    "test=feature_nonskew[feature_nonskew['is_train']==False]\n",
    "print(len(train))\n",
    "print(len(test))\n",
    "features=feature_nonskew.columns[1:-2]\n",
    "y=train[\"y\"]"
   ]
  },
  {
   "cell_type": "code",
   "execution_count": 14,
   "metadata": {},
   "outputs": [
    {
     "data": {
      "text/plain": [
       "SVC(C=1.0, cache_size=200, class_weight=None, coef0=0.0,\n",
       "  decision_function_shape='ovr', degree=3, gamma=0.001, kernel='rbf',\n",
       "  max_iter=-1, probability=False, random_state=None, shrinking=True,\n",
       "  tol=0.001, verbose=False)"
      ]
     },
     "execution_count": 14,
     "metadata": {},
     "output_type": "execute_result"
    }
   ],
   "source": [
    "clf=svm.SVC(gamma=0.001)\n",
    "clf.fit(train[features],y)"
   ]
  },
  {
   "cell_type": "code",
   "execution_count": 15,
   "metadata": {
    "collapsed": true
   },
   "outputs": [],
   "source": [
    "test_y=clf.predict(test[features])"
   ]
  },
  {
   "cell_type": "code",
   "execution_count": 16,
   "metadata": {},
   "outputs": [
    {
     "name": "stdout",
     "output_type": "stream",
     "text": [
      "<class 'list'>\n",
      "0.7336912314950382\n",
      "0.20919340849956636\n",
      "1206\n",
      "5765\n",
      "1206\n",
      "352\n",
      "Precision:  0.7740693196405648\n",
      "Recall:  0.20919340849956636\n",
      "F-Measure:  0.3293732077017616\n"
     ]
    }
   ],
   "source": [
    "count=0\n",
    "count_1=0\n",
    "count_actual_1=0\n",
    "y_given=list(test[\"y\"])\n",
    "print(type(y_given))\n",
    "for i in range(len(test)):\n",
    "    if(y_given[i]==test_y[i]):\n",
    "        count+=1\n",
    "    if(y_given[i]==test_y[i] and test_y[i]==1):\n",
    "        count_1+=1\n",
    "    if(y_given[i]==1):\n",
    "        count_actual_1+=1\n",
    "print(count/len(test))\n",
    "print(count_1/(count_actual_1))\n",
    "print(count_1)\n",
    "print(count_actual_1)\n",
    "print(count_1)\n",
    "fp=0\n",
    "fn=0\n",
    "for i in range(len(y_given)):\n",
    "    if(y_given[i]==0 and test_y[i]==1):\n",
    "        fp+=1\n",
    "    if(y_given[i]==1 and test_y[i]==0):\n",
    "        fn+=1\n",
    "print(fp)\n",
    "tp=count_1\n",
    "precision=tp/(tp+fp)\n",
    "recall=tp/(tp+fn)\n",
    "f_measure=2*(precision*recall)/(precision+recall)\n",
    "print(\"Precision: \",precision)\n",
    "print(\"Recall: \",recall)\n",
    "print(\"F-Measure: \",f_measure)"
   ]
  },
  {
   "cell_type": "code",
   "execution_count": 17,
   "metadata": {},
   "outputs": [
    {
     "data": {
      "text/plain": [
       "SVC(C=1.0, cache_size=200, class_weight=None, coef0=0.0,\n",
       "  decision_function_shape='ovr', degree=3, gamma='auto', kernel='rbf',\n",
       "  max_iter=-1, probability=False, random_state=None, shrinking=True,\n",
       "  tol=0.001, verbose=False)"
      ]
     },
     "execution_count": 17,
     "metadata": {},
     "output_type": "execute_result"
    }
   ],
   "source": [
    "clf=svm.SVC()\n",
    "clf.fit(train[features],y)"
   ]
  },
  {
   "cell_type": "code",
   "execution_count": 18,
   "metadata": {
    "collapsed": true
   },
   "outputs": [],
   "source": [
    "test_y=clf.predict(test[features])"
   ]
  },
  {
   "cell_type": "code",
   "execution_count": 19,
   "metadata": {},
   "outputs": [
    {
     "name": "stdout",
     "output_type": "stream",
     "text": [
      "<class 'list'>\n",
      "0.7668239249498401\n",
      "0.4327840416305291\n",
      "2495\n",
      "5765\n",
      "2495\n",
      "1030\n",
      "Precision:  0.7078014184397163\n",
      "Recall:  0.4327840416305291\n",
      "F-Measure:  0.5371367061356297\n"
     ]
    }
   ],
   "source": [
    "count=0\n",
    "count_1=0\n",
    "count_actual_1=0\n",
    "y_given=list(test[\"y\"])\n",
    "print(type(y_given))\n",
    "for i in range(len(test)):\n",
    "    if(y_given[i]==test_y[i]):\n",
    "        count+=1\n",
    "    if(y_given[i]==test_y[i] and test_y[i]==1):\n",
    "        count_1+=1\n",
    "    if(y_given[i]==1):\n",
    "        count_actual_1+=1\n",
    "print(count/len(test))\n",
    "print(count_1/(count_actual_1))\n",
    "print(count_1)\n",
    "print(count_actual_1)\n",
    "print(count_1)\n",
    "fp=0\n",
    "fn=0\n",
    "for i in range(len(y_given)):\n",
    "    if(y_given[i]==0 and test_y[i]==1):\n",
    "        fp+=1\n",
    "    if(y_given[i]==1 and test_y[i]==0):\n",
    "        fn+=1\n",
    "print(fp)\n",
    "tp=count_1\n",
    "precision=tp/(tp+fp)\n",
    "recall=tp/(tp+fn)\n",
    "f_measure=2*(precision*recall)/(precision+recall)\n",
    "print(\"Precision: \",precision)\n",
    "print(\"Recall: \",recall)\n",
    "print(\"F-Measure: \",f_measure)"
   ]
  },
  {
   "cell_type": "code",
   "execution_count": 20,
   "metadata": {},
   "outputs": [
    {
     "data": {
      "text/plain": [
       "SVC(C=0.1, cache_size=200, class_weight=None, coef0=0.0,\n",
       "  decision_function_shape='ovr', degree=3, gamma='auto', kernel='rbf',\n",
       "  max_iter=-1, probability=False, random_state=None, shrinking=True,\n",
       "  tol=0.001, verbose=False)"
      ]
     },
     "execution_count": 20,
     "metadata": {},
     "output_type": "execute_result"
    }
   ],
   "source": [
    "clf=svm.SVC(C=0.1)\n",
    "clf.fit(train[features],y)"
   ]
  },
  {
   "cell_type": "code",
   "execution_count": 21,
   "metadata": {
    "collapsed": true
   },
   "outputs": [],
   "source": [
    "test_y=clf.predict(test[features])"
   ]
  },
  {
   "cell_type": "code",
   "execution_count": 22,
   "metadata": {},
   "outputs": [
    {
     "name": "stdout",
     "output_type": "stream",
     "text": [
      "<class 'list'>\n",
      "0.765142888129711\n",
      "0.42914137033824806\n",
      "2474\n",
      "5765\n",
      "2474\n",
      "1040\n",
      "Precision:  0.7040409789413773\n",
      "Recall:  0.42914137033824806\n",
      "F-Measure:  0.5332471171462442\n"
     ]
    }
   ],
   "source": [
    "count=0\n",
    "count_1=0\n",
    "count_actual_1=0\n",
    "y_given=list(test[\"y\"])\n",
    "print(type(y_given))\n",
    "for i in range(len(test)):\n",
    "    if(y_given[i]==test_y[i]):\n",
    "        count+=1\n",
    "    if(y_given[i]==test_y[i] and test_y[i]==1):\n",
    "        count_1+=1\n",
    "    if(y_given[i]==1):\n",
    "        count_actual_1+=1\n",
    "print(count/len(test))\n",
    "print(count_1/(count_actual_1))\n",
    "print(count_1)\n",
    "print(count_actual_1)\n",
    "print(count_1)\n",
    "fp=0\n",
    "fn=0\n",
    "for i in range(len(y_given)):\n",
    "    if(y_given[i]==0 and test_y[i]==1):\n",
    "        fp+=1\n",
    "    if(y_given[i]==1 and test_y[i]==0):\n",
    "        fn+=1\n",
    "print(fp)\n",
    "tp=count_1\n",
    "precision=tp/(tp+fp)\n",
    "recall=tp/(tp+fn)\n",
    "f_measure=2*(precision*recall)/(precision+recall)\n",
    "print(\"Precision: \",precision)\n",
    "print(\"Recall: \",recall)\n",
    "print(\"F-Measure: \",f_measure)"
   ]
  },
  {
   "cell_type": "code",
   "execution_count": 23,
   "metadata": {},
   "outputs": [
    {
     "data": {
      "text/plain": [
       "SVC(C=0.1, cache_size=200, class_weight=None, coef0=0.0,\n",
       "  decision_function_shape='ovr', degree=3, gamma='auto', kernel='rbf',\n",
       "  max_iter=-1, probability=False, random_state=None, shrinking=True,\n",
       "  tol=0.005, verbose=False)"
      ]
     },
     "execution_count": 23,
     "metadata": {},
     "output_type": "execute_result"
    }
   ],
   "source": [
    "clf=svm.SVC(C=0.1,tol=0.005)\n",
    "clf.fit(train[features],y)"
   ]
  },
  {
   "cell_type": "code",
   "execution_count": 25,
   "metadata": {
    "collapsed": true
   },
   "outputs": [],
   "source": [
    "test_y=clf.predict(test[features])"
   ]
  },
  {
   "cell_type": "code",
   "execution_count": 26,
   "metadata": {},
   "outputs": [
    {
     "name": "stdout",
     "output_type": "stream",
     "text": [
      "<class 'list'>\n",
      "0.765142888129711\n",
      "0.42914137033824806\n",
      "2474\n",
      "5765\n",
      "2474\n",
      "1040\n",
      "Precision:  0.7040409789413773\n",
      "Recall:  0.42914137033824806\n",
      "F-Measure:  0.5332471171462442\n"
     ]
    }
   ],
   "source": [
    "count=0\n",
    "count_1=0\n",
    "count_actual_1=0\n",
    "y_given=list(test[\"y\"])\n",
    "print(type(y_given))\n",
    "for i in range(len(test)):\n",
    "    if(y_given[i]==test_y[i]):\n",
    "        count+=1\n",
    "    if(y_given[i]==test_y[i] and test_y[i]==1):\n",
    "        count_1+=1\n",
    "    if(y_given[i]==1):\n",
    "        count_actual_1+=1\n",
    "print(count/len(test))\n",
    "print(count_1/(count_actual_1))\n",
    "print(count_1)\n",
    "print(count_actual_1)\n",
    "print(count_1)\n",
    "fp=0\n",
    "fn=0\n",
    "for i in range(len(y_given)):\n",
    "    if(y_given[i]==0 and test_y[i]==1):\n",
    "        fp+=1\n",
    "    if(y_given[i]==1 and test_y[i]==0):\n",
    "        fn+=1\n",
    "print(fp)\n",
    "tp=count_1\n",
    "precision=tp/(tp+fp)\n",
    "recall=tp/(tp+fn)\n",
    "f_measure=2*(precision*recall)/(precision+recall)\n",
    "print(\"Precision: \",precision)\n",
    "print(\"Recall: \",recall)\n",
    "print(\"F-Measure: \",f_measure)"
   ]
  },
  {
   "cell_type": "code",
   "execution_count": 27,
   "metadata": {},
   "outputs": [
    {
     "data": {
      "text/plain": [
       "SVC(C=0.1, cache_size=200, class_weight=None, coef0=0.0,\n",
       "  decision_function_shape='ovr', degree=3, gamma=0.25, kernel='rbf',\n",
       "  max_iter=-1, probability=False, random_state=None, shrinking=True,\n",
       "  tol=0.005, verbose=False)"
      ]
     },
     "execution_count": 27,
     "metadata": {},
     "output_type": "execute_result"
    }
   ],
   "source": [
    "clf=svm.SVC(gamma=0.25,C=0.1,tol=0.005)\n",
    "clf.fit(train[features],y)"
   ]
  },
  {
   "cell_type": "code",
   "execution_count": 28,
   "metadata": {
    "collapsed": true
   },
   "outputs": [],
   "source": [
    "test_y=clf.predict(test[features])"
   ]
  },
  {
   "cell_type": "code",
   "execution_count": 29,
   "metadata": {},
   "outputs": [
    {
     "name": "stdout",
     "output_type": "stream",
     "text": [
      "<class 'list'>\n",
      "0.7664985629846538\n",
      "0.4398959236773634\n",
      "2536\n",
      "5765\n",
      "2536\n",
      "1077\n",
      "Precision:  0.7019097702740105\n",
      "Recall:  0.4398959236773634\n",
      "F-Measure:  0.5408402644487097\n"
     ]
    }
   ],
   "source": [
    "count=0\n",
    "count_1=0\n",
    "count_actual_1=0\n",
    "y_given=list(test[\"y\"])\n",
    "print(type(y_given))\n",
    "for i in range(len(test)):\n",
    "    if(y_given[i]==test_y[i]):\n",
    "        count+=1\n",
    "    if(y_given[i]==test_y[i] and test_y[i]==1):\n",
    "        count_1+=1\n",
    "    if(y_given[i]==1):\n",
    "        count_actual_1+=1\n",
    "print(count/len(test))\n",
    "print(count_1/(count_actual_1))\n",
    "print(count_1)\n",
    "print(count_actual_1)\n",
    "print(count_1)\n",
    "fp=0\n",
    "fn=0\n",
    "for i in range(len(y_given)):\n",
    "    if(y_given[i]==0 and test_y[i]==1):\n",
    "        fp+=1\n",
    "    if(y_given[i]==1 and test_y[i]==0):\n",
    "        fn+=1\n",
    "print(fp)\n",
    "tp=count_1\n",
    "precision=tp/(tp+fp)\n",
    "recall=tp/(tp+fn)\n",
    "f_measure=2*(precision*recall)/(precision+recall)\n",
    "print(\"Precision: \",precision)\n",
    "print(\"Recall: \",recall)\n",
    "print(\"F-Measure: \",f_measure)"
   ]
  },
  {
   "cell_type": "code",
   "execution_count": 30,
   "metadata": {},
   "outputs": [
    {
     "data": {
      "text/plain": [
       "SVC(C=0.1, cache_size=200, class_weight=None, coef0=0.0,\n",
       "  decision_function_shape='ovr', degree=3, gamma=0.4, kernel='rbf',\n",
       "  max_iter=-1, probability=False, random_state=None, shrinking=True,\n",
       "  tol=0.005, verbose=False)"
      ]
     },
     "execution_count": 30,
     "metadata": {},
     "output_type": "execute_result"
    }
   ],
   "source": [
    "clf=svm.SVC(gamma=0.4,C=0.1,tol=0.005)\n",
    "clf.fit(train[features],y)"
   ]
  },
  {
   "cell_type": "code",
   "execution_count": 31,
   "metadata": {
    "collapsed": true
   },
   "outputs": [],
   "source": [
    "test_y=clf.predict(test[features])"
   ]
  },
  {
   "cell_type": "code",
   "execution_count": 32,
   "metadata": {},
   "outputs": [
    {
     "name": "stdout",
     "output_type": "stream",
     "text": [
      "<class 'list'>\n",
      "0.7681253728105851\n",
      "0.45810928013876845\n",
      "2641\n",
      "5765\n",
      "2641\n",
      "1152\n",
      "Precision:  0.696282625889797\n",
      "Recall:  0.45810928013876845\n",
      "F-Measure:  0.5526260724000837\n"
     ]
    }
   ],
   "source": [
    "count=0\n",
    "count_1=0\n",
    "count_actual_1=0\n",
    "y_given=list(test[\"y\"])\n",
    "print(type(y_given))\n",
    "for i in range(len(test)):\n",
    "    if(y_given[i]==test_y[i]):\n",
    "        count+=1\n",
    "    if(y_given[i]==test_y[i] and test_y[i]==1):\n",
    "        count_1+=1\n",
    "    if(y_given[i]==1):\n",
    "        count_actual_1+=1\n",
    "print(count/len(test))\n",
    "print(count_1/(count_actual_1))\n",
    "print(count_1)\n",
    "print(count_actual_1)\n",
    "print(count_1)\n",
    "fp=0\n",
    "fn=0\n",
    "for i in range(len(y_given)):\n",
    "    if(y_given[i]==0 and test_y[i]==1):\n",
    "        fp+=1\n",
    "    if(y_given[i]==1 and test_y[i]==0):\n",
    "        fn+=1\n",
    "print(fp)\n",
    "tp=count_1\n",
    "precision=tp/(tp+fp)\n",
    "recall=tp/(tp+fn)\n",
    "f_measure=2*(precision*recall)/(precision+recall)\n",
    "print(\"Precision: \",precision)\n",
    "print(\"Recall: \",recall)\n",
    "print(\"F-Measure: \",f_measure)"
   ]
  },
  {
   "cell_type": "code",
   "execution_count": 33,
   "metadata": {},
   "outputs": [
    {
     "data": {
      "text/plain": [
       "SVC(C=0.1, cache_size=200, class_weight=None, coef0=0.0,\n",
       "  decision_function_shape='ovr', degree=3, gamma=0.5, kernel='rbf',\n",
       "  max_iter=-1, probability=False, random_state=None, shrinking=True,\n",
       "  tol=0.005, verbose=False)"
      ]
     },
     "execution_count": 33,
     "metadata": {},
     "output_type": "execute_result"
    }
   ],
   "source": [
    "clf=svm.SVC(gamma=0.5,C=0.1,tol=0.005)\n",
    "clf.fit(train[features],y)"
   ]
  },
  {
   "cell_type": "code",
   "execution_count": 34,
   "metadata": {
    "collapsed": true
   },
   "outputs": [],
   "source": [
    "test_y=clf.predict(test[features])"
   ]
  },
  {
   "cell_type": "code",
   "execution_count": 35,
   "metadata": {},
   "outputs": [
    {
     "name": "stdout",
     "output_type": "stream",
     "text": [
      "<class 'list'>\n",
      "0.7677457838512012\n",
      "0.4558542931483088\n",
      "2628\n",
      "5765\n",
      "2628\n",
      "1146\n",
      "Precision:  0.6963434022257552\n",
      "Recall:  0.4558542931483088\n",
      "F-Measure:  0.5510011531607086\n"
     ]
    }
   ],
   "source": [
    "count=0\n",
    "count_1=0\n",
    "count_actual_1=0\n",
    "y_given=list(test[\"y\"])\n",
    "print(type(y_given))\n",
    "for i in range(len(test)):\n",
    "    if(y_given[i]==test_y[i]):\n",
    "        count+=1\n",
    "    if(y_given[i]==test_y[i] and test_y[i]==1):\n",
    "        count_1+=1\n",
    "    if(y_given[i]==1):\n",
    "        count_actual_1+=1\n",
    "print(count/len(test))\n",
    "print(count_1/(count_actual_1))\n",
    "print(count_1)\n",
    "print(count_actual_1)\n",
    "print(count_1)\n",
    "fp=0\n",
    "fn=0\n",
    "for i in range(len(y_given)):\n",
    "    if(y_given[i]==0 and test_y[i]==1):\n",
    "        fp+=1\n",
    "    if(y_given[i]==1 and test_y[i]==0):\n",
    "        fn+=1\n",
    "print(fp)\n",
    "tp=count_1\n",
    "precision=tp/(tp+fp)\n",
    "recall=tp/(tp+fn)\n",
    "f_measure=2*(precision*recall)/(precision+recall)\n",
    "print(\"Precision: \",precision)\n",
    "print(\"Recall: \",recall)\n",
    "print(\"F-Measure: \",f_measure)"
   ]
  },
  {
   "cell_type": "code",
   "execution_count": null,
   "metadata": {
    "collapsed": true
   },
   "outputs": [],
   "source": []
  }
 ],
 "metadata": {
  "kernelspec": {
   "display_name": "Python 3",
   "language": "python",
   "name": "python3"
  },
  "language_info": {
   "codemirror_mode": {
    "name": "ipython",
    "version": 3
   },
   "file_extension": ".py",
   "mimetype": "text/x-python",
   "name": "python",
   "nbconvert_exporter": "python",
   "pygments_lexer": "ipython3",
   "version": "3.6.3"
  }
 },
 "nbformat": 4,
 "nbformat_minor": 2
}
